{
 "cells": [
  {
   "cell_type": "code",
   "execution_count": 2,
   "metadata": {},
   "outputs": [],
   "source": [
    "%load_ext autoreload\n",
    "%autoreload 2"
   ]
  },
  {
   "cell_type": "code",
   "execution_count": 3,
   "metadata": {},
   "outputs": [],
   "source": [
    "import numpy as np\n",
    "from vae.arch_vaegan import VAE\n",
    "import matplotlib.pyplot as plt\n",
    "import os\n",
    "from IPython import display\n",
    "from ipywidgets import interact, interactive, fixed, interact_manual, FloatSlider\n",
    "import ipywidgets as widgets\n",
    "from tensorflow.keras.utils import plot_model\n",
    "from tensorflow.keras import backend as K\n",
    "\n",
    "K.set_image_data_format('channels_last')\n",
    "np.set_printoptions(precision=4, suppress = True)"
   ]
  },
  {
   "cell_type": "code",
   "execution_count": 4,
   "metadata": {},
   "outputs": [],
   "source": [
    "vae = VAE()\n",
    "vae.set_model('./vae')"
   ]
  },
  {
   "cell_type": "code",
   "execution_count": 5,
   "metadata": {},
   "outputs": [
    {
     "output_type": "stream",
     "name": "stdout",
     "text": [
      "490127640.npz\n(300, 64, 64, 3)\n"
     ]
    }
   ],
   "source": [
    "DIR_NAME = './data/rollout/'\n",
    "file = os.listdir(DIR_NAME)[200]\n",
    "print(file)\n",
    "obs_data = np.load(DIR_NAME + file)['obs']\n",
    "print(obs_data.shape)"
   ]
  },
  {
   "cell_type": "code",
   "execution_count": 6,
   "metadata": {},
   "outputs": [
    {
     "output_type": "stream",
     "name": "stdout",
     "text": [
      "('Failed to import pydot. You must `pip install pydot` and install graphviz (https://graphviz.gitlab.io/download/), ', 'for `pydotprint` to work.')\n('Failed to import pydot. You must `pip install pydot` and install graphviz (https://graphviz.gitlab.io/download/), ', 'for `pydotprint` to work.')\n('Failed to import pydot. You must `pip install pydot` and install graphviz (https://graphviz.gitlab.io/download/), ', 'for `pydotprint` to work.')\n"
     ]
    }
   ],
   "source": [
    "plot_model(vae.E, to_file='./vae/encoder.png', show_shapes=True)\n",
    "plot_model(vae.G, to_file='./vae/decoder.png', show_shapes=True)\n",
    "plot_model(vae.D, to_file='./vae/discriminator.png', show_shapes=True)"
   ]
  },
  {
   "cell_type": "code",
   "execution_count": 10,
   "metadata": {},
   "outputs": [
    {
     "output_type": "stream",
     "name": "stdout",
     "text": [
      "[[[0.4 0.8 0.4]\n  [0.4 0.8 0.4]\n  [0.4 0.8 0.4]\n  ...\n  [0.4 0.8 0.4]\n  [0.4 0.8 0.4]\n  [0.4 0.8 0.4]]\n\n [[0.4 0.8 0.4]\n  [0.4 0.8 0.4]\n  [0.4 0.8 0.4]\n  ...\n  [0.4 0.8 0.4]\n  [0.4 0.8 0.4]\n  [0.4 0.8 0.4]]\n\n [[0.4 0.8 0.4]\n  [0.4 0.8 0.4]\n  [0.4 0.8 0.4]\n  ...\n  [0.4 0.8 0.4]\n  [0.4 0.8 0.4]\n  [0.4 0.8 0.4]]\n\n ...\n\n [[0.  0.  0. ]\n  [0.  0.  0. ]\n  [0.  0.  0. ]\n  ...\n  [0.  0.  0. ]\n  [0.  0.  0. ]\n  [0.  0.  0. ]]\n\n [[0.  0.  0. ]\n  [0.  0.  0. ]\n  [0.  0.  0. ]\n  ...\n  [0.  0.  0. ]\n  [0.  0.  0. ]\n  [0.  0.  0. ]]\n\n [[0.  0.  0. ]\n  [0.  0.  0. ]\n  [0.  0.  0. ]\n  ...\n  [0.  0.  0. ]\n  [0.  0.  0. ]\n  [0.  0.  0. ]]]\n"
     ]
    },
    {
     "output_type": "error",
     "ename": "ValueError",
     "evalue": "Layer model_1 expects 1 input(s), but it received 3 input tensors. Inputs received: [<tf.Tensor: shape=(1, 32), dtype=float32, numpy=\narray([[-0.0406,  0.0161,  0.1911,  0.026 , -0.0529, -0.0101, -0.0978,\n         0.0359,  0.1099,  0.1136, -0.1232,  0.0472, -0.0414,  0.0093,\n         0.1313, -0.0587, -0.0926,  0.0176, -0.0435,  0.1233, -0.0891,\n        -0.0317,  0.078 , -0.1996,  0.1191,  0.1518,  0.0317,  0.1662,\n        -0.0226,  0.0609, -0.003 , -0.1615]], dtype=float32)>, <tf.Tensor: shape=(1, 32), dtype=float32, numpy=\narray([[-0.02  ,  0.0663,  0.0118,  0.0673, -0.0007, -0.0008,  0.0644,\n        -0.0162,  0.0334, -0.0905,  0.0795,  0.161 , -0.0302, -0.113 ,\n         0.0337, -0.106 , -0.0263,  0.0229,  0.0451, -0.1276, -0.0496,\n         0.0342,  0.0051, -0.1451,  0.2147,  0.005 , -0.1455, -0.0873,\n         0.0263,  0.0528, -0.0953, -0.0545]], dtype=float32)>, <tf.Tensor: shape=(1, 32), dtype=float32, numpy=\narray([[ 1.3727,  1.4593, -1.0083,  0.3695,  0.5637, -1.5488, -0.0366,\n         0.8075,  0.8217, -0.9374, -0.137 ,  2.2239,  1.1854,  0.2514,\n         3.1022,  0.621 , -0.5722,  0.7774, -0.6999, -0.4573, -1.8754,\n        -1.5355, -0.5296, -0.6925, -1.5013,  0.6905, -0.1447, -1.021 ,\n         1.069 ,  0.8363,  0.3983, -0.9526]], dtype=float32)>]",
     "traceback": [
      "\u001b[0;31m---------------------------------------------------------------------------\u001b[0m",
      "\u001b[0;31mValueError\u001b[0m                                Traceback (most recent call last)",
      "\u001b[0;32m<ipython-input-10-5454d127f9b7>\u001b[0m in \u001b[0;36m<module>\u001b[0;34m\u001b[0m\n\u001b[1;32m      6\u001b[0m     \u001b[0mobs\u001b[0m \u001b[0;34m=\u001b[0m \u001b[0mobs_data\u001b[0m\u001b[0;34m[\u001b[0m\u001b[0midx\u001b[0m\u001b[0;34m]\u001b[0m\u001b[0;34m\u001b[0m\u001b[0;34m\u001b[0m\u001b[0m\n\u001b[1;32m      7\u001b[0m     \u001b[0mprint\u001b[0m\u001b[0;34m(\u001b[0m\u001b[0mobs\u001b[0m\u001b[0;34m)\u001b[0m\u001b[0;34m\u001b[0m\u001b[0;34m\u001b[0m\u001b[0m\n\u001b[0;32m----> 8\u001b[0;31m     \u001b[0mz_decoded\u001b[0m \u001b[0;34m=\u001b[0m \u001b[0mvae\u001b[0m\u001b[0;34m.\u001b[0m\u001b[0mpredict\u001b[0m\u001b[0;34m(\u001b[0m\u001b[0mnp\u001b[0m\u001b[0;34m.\u001b[0m\u001b[0marray\u001b[0m\u001b[0;34m(\u001b[0m\u001b[0;34m[\u001b[0m\u001b[0mobs\u001b[0m\u001b[0;34m]\u001b[0m\u001b[0;34m)\u001b[0m\u001b[0;34m)\u001b[0m\u001b[0;34m[\u001b[0m\u001b[0;36m0\u001b[0m\u001b[0;34m]\u001b[0m\u001b[0;34m\u001b[0m\u001b[0;34m\u001b[0m\u001b[0m\n\u001b[0m\u001b[1;32m      9\u001b[0m     \u001b[0;32mbreak\u001b[0m\u001b[0;34m\u001b[0m\u001b[0;34m\u001b[0m\u001b[0m\n\u001b[1;32m     10\u001b[0m \u001b[0;34m\u001b[0m\u001b[0m\n",
      "\u001b[0;32m~/world-models-latest/vae/arch_vaegan.py\u001b[0m in \u001b[0;36mpredict\u001b[0;34m(self, x)\u001b[0m\n\u001b[1;32m    177\u001b[0m     \u001b[0;32mdef\u001b[0m \u001b[0mpredict\u001b[0m\u001b[0;34m(\u001b[0m\u001b[0mself\u001b[0m\u001b[0;34m,\u001b[0m\u001b[0mx\u001b[0m\u001b[0;34m)\u001b[0m\u001b[0;34m:\u001b[0m\u001b[0;34m\u001b[0m\u001b[0;34m\u001b[0m\u001b[0m\n\u001b[1;32m    178\u001b[0m         \u001b[0mlatent\u001b[0m\u001b[0;34m=\u001b[0m\u001b[0mself\u001b[0m\u001b[0;34m.\u001b[0m\u001b[0mE\u001b[0m\u001b[0;34m(\u001b[0m\u001b[0mx\u001b[0m\u001b[0;34m)\u001b[0m\u001b[0;34m\u001b[0m\u001b[0;34m\u001b[0m\u001b[0m\n\u001b[0;32m--> 179\u001b[0;31m         \u001b[0;32mreturn\u001b[0m \u001b[0mself\u001b[0m\u001b[0;34m.\u001b[0m\u001b[0mG\u001b[0m\u001b[0;34m(\u001b[0m\u001b[0mlatent\u001b[0m\u001b[0;34m)\u001b[0m\u001b[0;34m\u001b[0m\u001b[0;34m\u001b[0m\u001b[0m\n\u001b[0m",
      "\u001b[0;32m~/anaconda3/envs/tensorflow2_latest_p37/cpu/lib/python3.7/site-packages/tensorflow/python/keras/engine/base_layer.py\u001b[0m in \u001b[0;36m__call__\u001b[0;34m(self, *args, **kwargs)\u001b[0m\n\u001b[1;32m   1011\u001b[0m         \u001b[0minputs\u001b[0m \u001b[0;34m=\u001b[0m \u001b[0mself\u001b[0m\u001b[0;34m.\u001b[0m\u001b[0m_maybe_cast_inputs\u001b[0m\u001b[0;34m(\u001b[0m\u001b[0minputs\u001b[0m\u001b[0;34m,\u001b[0m \u001b[0minput_list\u001b[0m\u001b[0;34m)\u001b[0m\u001b[0;34m\u001b[0m\u001b[0;34m\u001b[0m\u001b[0m\n\u001b[1;32m   1012\u001b[0m \u001b[0;34m\u001b[0m\u001b[0m\n\u001b[0;32m-> 1013\u001b[0;31m       \u001b[0minput_spec\u001b[0m\u001b[0;34m.\u001b[0m\u001b[0massert_input_compatibility\u001b[0m\u001b[0;34m(\u001b[0m\u001b[0mself\u001b[0m\u001b[0;34m.\u001b[0m\u001b[0minput_spec\u001b[0m\u001b[0;34m,\u001b[0m \u001b[0minputs\u001b[0m\u001b[0;34m,\u001b[0m \u001b[0mself\u001b[0m\u001b[0;34m.\u001b[0m\u001b[0mname\u001b[0m\u001b[0;34m)\u001b[0m\u001b[0;34m\u001b[0m\u001b[0;34m\u001b[0m\u001b[0m\n\u001b[0m\u001b[1;32m   1014\u001b[0m       \u001b[0;32mif\u001b[0m \u001b[0meager\u001b[0m\u001b[0;34m:\u001b[0m\u001b[0;34m\u001b[0m\u001b[0;34m\u001b[0m\u001b[0m\n\u001b[1;32m   1015\u001b[0m         \u001b[0mcall_fn\u001b[0m \u001b[0;34m=\u001b[0m \u001b[0mself\u001b[0m\u001b[0;34m.\u001b[0m\u001b[0mcall\u001b[0m\u001b[0;34m\u001b[0m\u001b[0;34m\u001b[0m\u001b[0m\n",
      "\u001b[0;32m~/anaconda3/envs/tensorflow2_latest_p37/cpu/lib/python3.7/site-packages/tensorflow/python/keras/engine/input_spec.py\u001b[0m in \u001b[0;36massert_input_compatibility\u001b[0;34m(input_spec, inputs, layer_name)\u001b[0m\n\u001b[1;32m    205\u001b[0m                      \u001b[0mstr\u001b[0m\u001b[0;34m(\u001b[0m\u001b[0mlen\u001b[0m\u001b[0;34m(\u001b[0m\u001b[0minput_spec\u001b[0m\u001b[0;34m)\u001b[0m\u001b[0;34m)\u001b[0m \u001b[0;34m+\u001b[0m \u001b[0;34m' input(s), '\u001b[0m\u001b[0;34m\u001b[0m\u001b[0;34m\u001b[0m\u001b[0m\n\u001b[1;32m    206\u001b[0m                      \u001b[0;34m'but it received '\u001b[0m \u001b[0;34m+\u001b[0m \u001b[0mstr\u001b[0m\u001b[0;34m(\u001b[0m\u001b[0mlen\u001b[0m\u001b[0;34m(\u001b[0m\u001b[0minputs\u001b[0m\u001b[0;34m)\u001b[0m\u001b[0;34m)\u001b[0m \u001b[0;34m+\u001b[0m\u001b[0;34m\u001b[0m\u001b[0;34m\u001b[0m\u001b[0m\n\u001b[0;32m--> 207\u001b[0;31m                      ' input tensors. Inputs received: ' + str(inputs))\n\u001b[0m\u001b[1;32m    208\u001b[0m   \u001b[0;32mfor\u001b[0m \u001b[0minput_index\u001b[0m\u001b[0;34m,\u001b[0m \u001b[0;34m(\u001b[0m\u001b[0mx\u001b[0m\u001b[0;34m,\u001b[0m \u001b[0mspec\u001b[0m\u001b[0;34m)\u001b[0m \u001b[0;32min\u001b[0m \u001b[0menumerate\u001b[0m\u001b[0;34m(\u001b[0m\u001b[0mzip\u001b[0m\u001b[0;34m(\u001b[0m\u001b[0minputs\u001b[0m\u001b[0;34m,\u001b[0m \u001b[0minput_spec\u001b[0m\u001b[0;34m)\u001b[0m\u001b[0;34m)\u001b[0m\u001b[0;34m:\u001b[0m\u001b[0;34m\u001b[0m\u001b[0;34m\u001b[0m\u001b[0m\n\u001b[1;32m    209\u001b[0m     \u001b[0;32mif\u001b[0m \u001b[0mspec\u001b[0m \u001b[0;32mis\u001b[0m \u001b[0;32mNone\u001b[0m\u001b[0;34m:\u001b[0m\u001b[0;34m\u001b[0m\u001b[0;34m\u001b[0m\u001b[0m\n",
      "\u001b[0;31mValueError\u001b[0m: Layer model_1 expects 1 input(s), but it received 3 input tensors. Inputs received: [<tf.Tensor: shape=(1, 32), dtype=float32, numpy=\narray([[-0.0406,  0.0161,  0.1911,  0.026 , -0.0529, -0.0101, -0.0978,\n         0.0359,  0.1099,  0.1136, -0.1232,  0.0472, -0.0414,  0.0093,\n         0.1313, -0.0587, -0.0926,  0.0176, -0.0435,  0.1233, -0.0891,\n        -0.0317,  0.078 , -0.1996,  0.1191,  0.1518,  0.0317,  0.1662,\n        -0.0226,  0.0609, -0.003 , -0.1615]], dtype=float32)>, <tf.Tensor: shape=(1, 32), dtype=float32, numpy=\narray([[-0.02  ,  0.0663,  0.0118,  0.0673, -0.0007, -0.0008,  0.0644,\n        -0.0162,  0.0334, -0.0905,  0.0795,  0.161 , -0.0302, -0.113 ,\n         0.0337, -0.106 , -0.0263,  0.0229,  0.0451, -0.1276, -0.0496,\n         0.0342,  0.0051, -0.1451,  0.2147,  0.005 , -0.1455, -0.0873,\n         0.0263,  0.0528, -0.0953, -0.0545]], dtype=float32)>, <tf.Tensor: shape=(1, 32), dtype=float32, numpy=\narray([[ 1.3727,  1.4593, -1.0083,  0.3695,  0.5637, -1.5488, -0.0366,\n         0.8075,  0.8217, -0.9374, -0.137 ,  2.2239,  1.1854,  0.2514,\n         3.1022,  0.621 , -0.5722,  0.7774, -0.6999, -0.4573, -1.8754,\n        -1.5355, -0.5296, -0.6925, -1.5013,  0.6905, -0.1447, -1.021 ,\n         1.069 ,  0.8363,  0.3983, -0.9526]], dtype=float32)>]"
     ]
    }
   ],
   "source": [
    "### output from one episode\n",
    "\n",
    "for idx in range(0,300):\n",
    "    plt.gca().cla() \n",
    "    \n",
    "    obs = obs_data[idx]\n",
    "    print(obs.shape)\n",
    "    z_decoded = vae.predict(np.array([obs]))[0]\n",
    "    break\n",
    "\n",
    "    plt.subplot(121)\n",
    "    plt.imshow( obs)\n",
    "    plt.subplot(122)\n",
    "    plt.imshow( z_decoded)\n",
    "    \n",
    "#     plt.show()\n",
    "    display.clear_output(wait=True)\n",
    "    display.display(plt.gcf()) "
   ]
  },
  {
   "cell_type": "code",
   "execution_count": null,
   "metadata": {},
   "outputs": [],
   "source": [
    "### output from the full_model\n",
    "DIR_NAME = './data/rollout/'\n",
    "file = os.listdir(DIR_NAME)[179]\n",
    "obs_data = np.load(DIR_NAME + file)['obs']\n",
    "\n",
    "obs = obs_data[50]\n",
    "reconstruction = vae.predict(np.array([obs]))[0]\n",
    "\n",
    "ax1 = plt.subplot(121)\n",
    "plt.imshow( obs)\n",
    "ax1.axis('off')\n",
    "ax1.text(0.5,-0.1, \"INPUT\", size=12, ha=\"center\", \n",
    "         transform=ax1.transAxes)\n",
    "\n",
    "ax2 = plt.subplot(122)\n",
    "plt.imshow( reconstruction)\n",
    "ax2.axis('off')\n",
    "ax2.text(0.5,-0.1, \"OUTPUT\", size=12, ha=\"center\", \n",
    "         transform=ax2.transAxes);\n"
   ]
  },
  {
   "cell_type": "code",
   "execution_count": null,
   "metadata": {},
   "outputs": [],
   "source": [
    "mus, log_vars, _  = vae.E.predict(np.array([obs]))\n",
    "mu = mus[0]\n",
    "log_var = log_vars[0]\n",
    "print(\"mu = \" + str(mu))\n",
    "print(\"log_var = \" + str(log_var))\n",
    "\n",
    "encoded_z = vae.E.predict(np.array([obs]))[0]\n",
    "print(\"z = \" + str(encoded_z))"
   ]
  },
  {
   "cell_type": "code",
   "execution_count": null,
   "metadata": {},
   "outputs": [],
   "source": [
    "plt.plot(mu);\n",
    "plt.plot(log_var);\n",
    "print('informative dimensions:')\n",
    "hot_zs = np.where(abs(log_var) > 0.5)[0]\n",
    "hot_zs"
   ]
  },
  {
   "cell_type": "code",
   "execution_count": null,
   "metadata": {},
   "outputs": [],
   "source": [
    "file1 = os.listdir(DIR_NAME)[100]\n",
    "obs_data1 = np.load(DIR_NAME + file)['obs']\n",
    "file2 = os.listdir(DIR_NAME)[140]\n",
    "obs_data2 = np.load(DIR_NAME + file)['obs']"
   ]
  },
  {
   "cell_type": "code",
   "execution_count": null,
   "metadata": {},
   "outputs": [],
   "source": [
    "vae.E.predict(np.array([obs_data1[20]]))"
   ]
  },
  {
   "cell_type": "code",
   "execution_count": null,
   "metadata": {},
   "outputs": [],
   "source": [
    "top_left = vae.E.predict(np.array([obs_data1[20]]))[2][0]\n",
    "top_right = vae.E.predict(np.array([obs_data1[60]]))[2][0]\n",
    "bottom_left = vae.E.predict(np.array([obs_data2[80]]))[2][0]\n",
    "sample_z = vae.E.predict(np.array([obs_data[60]]))[2][0]\n",
    "\n",
    "fig, axes = plt.subplots(nrows=5, ncols=5, figsize=(32,32), sharex=True, sharey=True)\n",
    "plt.subplots_adjust(hspace = 0.4)\n",
    "\n",
    "for x in range(5):\n",
    "    for y in range(5):\n",
    "        \n",
    "        z = sample_z.copy()\n",
    "\n",
    "#         z = top_left + (top_right - top_left) * x/8 + (bottom_left - top_left) * y/8\n",
    "        z[7] = (x-2)\n",
    "        z[10] = (y-2)\n",
    "        \n",
    "        decoded_obs = vae.G.predict(np.array([z]))[0]\n",
    "        \n",
    "        axes[x,y].set_axis_off()\n",
    "        \n",
    "        axes[x,y].imshow(decoded_obs)\n",
    "        \n",
    "        axes[x,y].text(0.5,-0.1, 'z[7] ' + str(np.round(z[7],2)), size=20, ha=\"center\", \n",
    "                       transform=axes[x,y].transAxes)\n",
    "        \n",
    "        axes[x,y].text(0.5,-0.2, 'z[10] = ' + str(np.round(z[10],2)), size=20, ha=\"center\", \n",
    "                       transform=axes[x,y].transAxes)\n",
    "    \n",
    "\n",
    "plt.show()"
   ]
  },
  {
   "cell_type": "code",
   "execution_count": null,
   "metadata": {},
   "outputs": [],
   "source": [
    "def play_with_z(z0 = sample_z[0]\n",
    "                ,z2 = sample_z[2]\n",
    "                ,z4 = sample_z[4]\n",
    "                ,z5 = sample_z[5]\n",
    "                ,z6 = sample_z[6]\n",
    "                ,z7 = sample_z[7]\n",
    "                ,z10 = sample_z[10]\n",
    "                ,z15 = sample_z[15]\n",
    "                ,z24= sample_z[24]\n",
    "                ,z25= sample_z[25]\n",
    "                ,z27= sample_z[27]\n",
    "                ):\n",
    "    z = sample_z.copy()\n",
    "    z[0] = z0\n",
    "    z[2] = z2\n",
    "    z[4] = z4\n",
    "    z[5] = z5\n",
    "    z[6] = z6\n",
    "    z[7] = z7\n",
    "    z[10] = z10\n",
    "    z[15] = z15\n",
    "    z[24] = z24\n",
    "    z[25] = z25\n",
    "    z[27] = z27\n",
    "    \n",
    "    decoded_obs = vae.G.predict(np.array([z]))[0]\n",
    "    plt.gca().cla() \n",
    "    plt.imshow( decoded_obs)"
   ]
  },
  {
   "cell_type": "code",
   "execution_count": null,
   "metadata": {},
   "outputs": [],
   "source": [
    "interact(play_with_z\n",
    "        , z0=(-3.0,3.0,0.1)\n",
    "        , z2=(-3.0,3.0,0.1)\n",
    "        , z4=(-3.0,3.0,0.1)\n",
    "        , z5=(-3.0,3.0,0.1)\n",
    "        , z6=(-3.0,3.0,0.1)\n",
    "        , z7=(-3.0,3.0,0.1)\n",
    "        , z10=(-3.0,3.0,0.1)\n",
    "        , z15=(-3.0,3.0,0.1)\n",
    "        , z24=(-3.0,3.0,0.1)\n",
    "        , z25=(-3.0,3.0,0.1)\n",
    "        , z27=(-3.0,3.0,0.1)\n",
    "        )"
   ]
  },
  {
   "cell_type": "code",
   "execution_count": null,
   "metadata": {},
   "outputs": [],
   "source": []
  }
 ],
 "metadata": {
  "kernelspec": {
   "name": "python3710jvsc74a57bd0cd0df1507ef9326d6ff1dc09633a62d2de7a19445cf2a44215eef3a26742fb62",
   "display_name": "Python 3.7.10 64-bit ('tensorflow2_latest_p37': conda)"
  },
  "language_info": {
   "codemirror_mode": {
    "name": "ipython",
    "version": 3
   },
   "file_extension": ".py",
   "mimetype": "text/x-python",
   "name": "python",
   "nbconvert_exporter": "python",
   "pygments_lexer": "ipython3",
   "version": "3.7.10"
  }
 },
 "nbformat": 4,
 "nbformat_minor": 2
}