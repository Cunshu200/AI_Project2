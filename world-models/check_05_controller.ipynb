{
 "cells": [
  {
   "cell_type": "code",
   "execution_count": 1,
   "metadata": {},
   "outputs": [],
   "source": [
    "%load_ext autoreload\n",
    "%autoreload 2"
   ]
  },
  {
   "cell_type": "code",
   "execution_count": 2,
   "metadata": {},
   "outputs": [],
   "source": [
    "%matplotlib inline\n",
    "import numpy as np\n",
    "from rnn.arch import RNN\n",
    "from vae.arch import VAE\n",
    "import matplotlib.pyplot as plt\n",
    "from gym.utils import seeding\n",
    "from IPython import display\n",
    "import time\n",
    "from model import make_model\n",
    "\n",
    "import config\n",
    "\n",
    "\n",
    "np.set_printoptions(precision=4, suppress = True)"
   ]
  },
  {
   "cell_type": "code",
   "execution_count": 3,
   "metadata": {},
   "outputs": [],
   "source": [
    "def get_mixture_coef(z_pred):\n",
    "\n",
    "    log_pi, mu, log_sigma = np.split(z_pred, 3, 1)\n",
    "    log_pi = log_pi - np.log(np.sum(np.exp(log_pi), axis = 1, keepdims = True))\n",
    "\n",
    "    return log_pi, mu, log_sigma\n",
    "\n",
    "def get_pi_idx(x, pdf):\n",
    "    # samples from a categorial distribution\n",
    "    N = pdf.size\n",
    "    accumulate = 0\n",
    "    for i in range(0, N):\n",
    "        accumulate += pdf[i]\n",
    "        if (accumulate >= x):\n",
    "            return i\n",
    "    random_value = np.random.randint(N)\n",
    "    #print('error with sampling ensemble, returning random', random_value)\n",
    "    return random_value\n",
    "\n",
    "def sample_z(mu, log_sigma):\n",
    "    z =  mu + (np.exp(log_sigma)) * np.random.randn(*log_sigma.shape) \n",
    "    return z\n",
    "\n",
    "\n",
    "def get_z_from_rnn_output(y_pred):\n",
    "    HIDDEN_UNITS = 256\n",
    "    GAUSSIAN_MIXTURES = 5\n",
    "    Z_DIM = 32\n",
    "    d = GAUSSIAN_MIXTURES * Z_DIM\n",
    "\n",
    "    z_pred = y_pred[:(3*d)]\n",
    "    rew_pred = y_pred[-1]\n",
    "\n",
    "    z_pred = np.reshape(z_pred, [-1, GAUSSIAN_MIXTURES * 3])\n",
    "\n",
    "    log_pi, mu, log_sigma = get_mixture_coef(z_pred)\n",
    "\n",
    "    chosen_log_pi = np.zeros(Z_DIM)\n",
    "    chosen_mu = np.zeros(Z_DIM)\n",
    "    chosen_log_sigma = np.zeros(Z_DIM)\n",
    "\n",
    "    # adjust temperatures\n",
    "    logmix2 = np.copy(log_pi)\n",
    "    logmix2 -= logmix2.max()\n",
    "    logmix2 = np.exp(logmix2)\n",
    "    logmix2 /= logmix2.sum(axis=1).reshape(Z_DIM, 1)\n",
    "\n",
    "\n",
    "    for j in range(Z_DIM):\n",
    "        idx = get_pi_idx(np.random.rand(), logmix2[j])\n",
    "        chosen_log_pi[j] = idx\n",
    "        chosen_mu[j] = mu[j, idx]\n",
    "        chosen_log_sigma[j] = log_sigma[j,idx]\n",
    "\n",
    "    next_z = sample_z(chosen_mu, chosen_log_sigma)\n",
    "\n",
    "    # print(next_z)\n",
    "    # print(rew_pred)\n",
    "    if rew_pred > 0:\n",
    "        next_reward = 1\n",
    "    else:\n",
    "        next_reward = 0\n",
    "        \n",
    "    return next_z, next_reward, chosen_mu"
   ]
  },
  {
   "cell_type": "code",
   "execution_count": 4,
   "metadata": {},
   "outputs": [
    {
     "output_type": "stream",
     "name": "stderr",
     "text": [
      "/usr/local/lib/python3.6/dist-packages/gym/logger.py:30: UserWarning: \u001b[33mWARN: Box bound precision lowered by casting to float32\u001b[0m\n  warnings.warn(colorize('%s: %s'%('WARN', msg % args), 'yellow'))\n"
     ]
    }
   ],
   "source": [
    "model = make_model()\n",
    "model.make_env('car_racing')"
   ]
  },
  {
   "cell_type": "code",
   "execution_count": 5,
   "metadata": {},
   "outputs": [
    {
     "output_type": "stream",
     "name": "stdout",
     "text": [
      "loading file ./controller/NORMAL_car_racing.cma.2.8.best.json\n"
     ]
    }
   ],
   "source": [
    "model.load_model('./controller/NORMAL_car_racing.cma.2.8.best.json')"
   ]
  },
  {
   "cell_type": "code",
   "execution_count": 6,
   "metadata": {},
   "outputs": [],
   "source": [
    "z_weight = model.weight[0][:32,2]\n",
    "h_weight = model.weight[0][32:,2]"
   ]
  },
  {
   "cell_type": "code",
   "execution_count": 7,
   "metadata": {},
   "outputs": [
    {
     "output_type": "execute_result",
     "data": {
      "text/plain": [
       "array([ 0.2323,  0.6137, -0.0437,  0.1536, -0.4866,  0.1919, -0.3468,\n",
       "        0.1846, -0.2509,  0.662 , -0.5949,  0.324 , -0.419 ,  0.314 ,\n",
       "       -0.0507, -1.2615, -0.0927,  0.2332, -0.6114, -0.3033,  0.3037,\n",
       "       -0.7151,  0.8525, -0.4742, -0.4467,  0.4082,  0.4201, -0.4508,\n",
       "       -0.22  , -0.033 ,  0.0554,  1.0075])"
      ]
     },
     "metadata": {},
     "execution_count": 7
    }
   ],
   "source": [
    "z_weight"
   ]
  },
  {
   "cell_type": "code",
   "execution_count": 8,
   "metadata": {},
   "outputs": [
    {
     "output_type": "execute_result",
     "data": {
      "text/plain": [
       "array([-0.8451,  0.3271,  0.9976,  0.2636, -1.0003, -0.2914,  0.8739,\n",
       "       -0.8604, -0.3257,  0.3073,  0.1683,  0.0114,  0.098 , -0.2632,\n",
       "       -0.756 ,  0.8556, -0.3034, -0.1927,  0.4807,  0.0135,  1.3014,\n",
       "        1.0092, -1.3411, -0.5992,  0.2569, -0.2479, -0.4302, -0.8683,\n",
       "        0.4231,  1.039 , -0.7447, -0.3817, -0.0064,  0.103 , -0.847 ,\n",
       "        0.0904, -0.6255, -0.5109,  0.7417, -0.6988,  0.7966,  1.6143,\n",
       "        0.4051,  0.6774, -0.4737,  0.0995,  0.3391,  0.3516,  0.0476,\n",
       "        0.174 , -0.2131, -0.6266,  0.0133, -0.1082, -0.473 , -0.3598,\n",
       "       -0.9036, -0.0506,  0.4423, -0.1085, -1.1062,  0.2154,  0.2884,\n",
       "        0.8279,  0.3679, -0.081 , -0.3495, -0.4152,  0.0209,  0.2448,\n",
       "        0.2859, -0.402 ,  0.0589, -0.4047, -0.8247, -0.4249, -0.7081,\n",
       "       -0.0584,  0.6138,  0.3784, -0.0576,  0.2214, -0.9031,  0.6675,\n",
       "       -0.2542,  0.627 ,  0.3389,  0.1233,  0.3692,  0.2364, -0.0868,\n",
       "       -0.7697, -0.1515, -0.4805, -0.2272,  0.5634,  0.6886, -0.3858,\n",
       "       -0.2341,  0.0118,  0.4632,  0.0745,  0.06  , -0.2723,  0.465 ,\n",
       "        0.0567, -0.0849, -0.148 ,  0.0935,  0.1779, -0.9712,  0.4902,\n",
       "        0.0043, -0.1569,  0.1938, -0.5081,  0.7173, -0.2331,  0.2561,\n",
       "       -0.028 ,  0.4765,  0.0171, -0.165 ,  0.567 ,  0.7364,  0.2303,\n",
       "        0.3042, -0.4605,  0.0054, -1.166 ,  0.6597,  0.1471, -0.4063,\n",
       "       -0.2683,  0.4003, -0.9686, -0.6534, -0.0468,  0.1574, -0.1158,\n",
       "       -0.4945, -0.1527, -0.2035,  0.3664,  0.2868,  0.2418,  0.0216,\n",
       "       -0.6916,  0.7406,  0.1486,  0.4309,  0.484 ,  0.3946,  0.4283,\n",
       "        0.1708, -0.4427, -0.5557, -0.7816,  0.0181, -0.3774, -0.2623,\n",
       "        0.2007,  0.4911, -0.373 ,  0.3766, -0.6221,  0.2398, -0.2194,\n",
       "        0.1776, -0.1402,  0.071 ,  0.0586, -0.6271,  0.3619,  0.0227,\n",
       "       -0.1815,  0.3343, -0.5825,  0.7288,  1.119 , -0.1182,  0.7158,\n",
       "       -0.706 ,  0.3571, -0.5381,  0.3999, -0.045 , -0.1504, -0.692 ,\n",
       "        0.0974, -0.3319, -1.0284, -0.3501,  0.3093,  0.6594,  0.2678,\n",
       "       -0.1041, -0.4674,  0.3628, -0.3624, -0.0102, -0.3599, -0.2186,\n",
       "       -0.2409,  0.4046,  0.3047, -0.1775, -0.1358, -0.8888,  0.2872,\n",
       "       -0.1288, -0.0289,  0.0247, -0.476 , -0.2579,  0.2325,  0.6577,\n",
       "        0.0376,  0.4703, -0.5619,  0.3575,  0.333 ,  0.6951,  0.4902,\n",
       "       -0.0121,  0.1073, -0.5496,  0.5689,  0.4691,  0.7637,  0.7125,\n",
       "        0.6771, -0.9728, -0.327 ,  0.1051,  0.0883,  0.2137,  0.0981,\n",
       "        0.1275,  1.3641,  0.1798, -0.0865, -0.9962, -0.1161, -0.3106,\n",
       "        0.8518, -0.1744, -0.0644, -0.7156,  1.0611, -0.723 , -0.2906,\n",
       "       -0.2054,  0.1628, -0.432 , -0.0097])"
      ]
     },
     "metadata": {},
     "execution_count": 8
    }
   ],
   "source": [
    "h_weight"
   ]
  },
  {
   "cell_type": "code",
   "execution_count": 9,
   "metadata": {},
   "outputs": [],
   "source": [
    "rollout_files = np.load('./data/rollout/1040613.npz') \n",
    "obs_file = rollout_files['obs']\n",
    "action_file = rollout_files['action']\n",
    "reward_file = rollout_files['reward']\n",
    "done_file = rollout_files['done']\n",
    "\n",
    "series_files = np.load('./data/series/1040613.npz') \n",
    "mu_file = series_files['mu']\n",
    "log_var_file = series_files['log_var']\n",
    "action_2_file = series_files['action']\n",
    "reward_2_file = series_files['reward']\n",
    "done_2_file = series_files['done']\n"
   ]
  },
  {
   "cell_type": "code",
   "execution_count": 10,
   "metadata": {},
   "outputs": [],
   "source": [
    "obs = obs_file[4]\n",
    "action = [0,0,0]\n",
    "reward = 0\n",
    "model.reset()"
   ]
  },
  {
   "cell_type": "code",
   "execution_count": 11,
   "metadata": {},
   "outputs": [
    {
     "output_type": "execute_result",
     "data": {
      "text/plain": [
       "<matplotlib.image.AxesImage at 0x7f4f30474dd8>"
      ]
     },
     "metadata": {},
     "execution_count": 11
    },
    {
     "output_type": "display_data",
     "data": {
      "text/plain": "<Figure size 432x288 with 1 Axes>",
      "image/svg+xml": "<?xml version=\"1.0\" encoding=\"utf-8\" standalone=\"no\"?>\n<!DOCTYPE svg PUBLIC \"-//W3C//DTD SVG 1.1//EN\"\n  \"http://www.w3.org/Graphics/SVG/1.1/DTD/svg11.dtd\">\n<!-- Created with matplotlib (https://matplotlib.org/) -->\n<svg height=\"250.618594pt\" version=\"1.1\" viewBox=\"0 0 251.565 250.618594\" width=\"251.565pt\" xmlns=\"http://www.w3.org/2000/svg\" xmlns:xlink=\"http://www.w3.org/1999/xlink\">\n <defs>\n  <style type=\"text/css\">\n*{stroke-linecap:butt;stroke-linejoin:round;}\n  </style>\n </defs>\n <g id=\"figure_1\">\n  <g id=\"patch_1\">\n   <path d=\"M 0 250.618594 \nL 251.565 250.618594 \nL 251.565 0 \nL 0 0 \nz\n\" style=\"fill:none;\"/>\n  </g>\n  <g id=\"axes_1\">\n   <g id=\"patch_2\">\n    <path d=\"M 26.925 226.740469 \nL 244.365 226.740469 \nL 244.365 9.300469 \nL 26.925 9.300469 \nz\n\" style=\"fill:#ffffff;\"/>\n   </g>\n   <g clip-path=\"url(#pa037c7844d)\">\n    <image height=\"218\" id=\"image33bce86b9e\" transform=\"scale(1 -1)translate(0 -218)\" width=\"218\" x=\"26.925\" xlink:href=\"data:image/png;base64,\niVBORw0KGgoAAAANSUhEUgAAANoAAADaCAYAAADAHVzbAAAABHNCSVQICAgIfAhkiAAABA5JREFUeJzt3b1RG1sYgGGxoCZcAb1QAQ2QuIQbELkJkhuRkDG0cetwExoPN8PgsWVZ1r7an+eJxACanYFX39nloL3YbDavG2BUw7kPANZAaBAQGgSEBgGhQUBoEBAaBIQGAaFB4Or9B/f39x8+eX19/fb49vb2oCd8fHz88PHz8/Pb46enpz8+wNXat1/nIjsKTsREg4DQICA0CFxs3p0NvL5+PDEYhu8d/vi5915eXt4e39zc/PI5+APO0RZFBRAQGgQ+LB2ZEEvHRTHRICA0CFg6QsBEg4DQICA0CAgNAkKDgNAgcHX33925j2H5Hs59AL/hV2B0JhoEhAYBoUFAaBAQGgSEBgGhQUBoEBAaBIQGAaFBQGgQEBoEhAYBoUFAaBAQGgSEBgGhQUBoELg69wFwmLuHn7/Dz8Odd9aZAxMNAkKDgNAgIDQICA0CQoOAy/sz4TL+vJloEBAaBIQGAaFBQGgQWNZVx08Hft3XUY9iFDYVz5uJBgGhQUBoEFjWOdqhDj2XO5HtdvvXz/Hv588/f+6/fubNZrfZneBZ2MdEg4DQICA0CAgNAkKDgNAgIDQICA0CQoOA0CAgNAgIDQLr3FQc2+1s2p2dYzae7/mHYhMNAkKDgNAg4BwNTmXPeZ2JBgGhQUBoEBAaBIQGAaFBwOX9Bbu8vDzo675tvo18JJhoEBAaBCwdA4cu4VguEw0CQoOA0CAgNAgIDQJCg8D8L+/Hd++EY5hoEBAaBOa/dJyBYZj265lNxeOb9m8ALITQICA0CAgNAkKDgNAgIDQICA0CQoOAnSGB3T/f7/i5/bI945FwLiYaBIQGAaFBwDlabLfb/f6L6I38D8QmGgSEBgGhQUBoEBAaBIQGAaFBQGgQEBoE7AyZqPIuod7XcXwmGgSEBgFLx5gbx6+TiQYBoUFAaBAQGgSEBgGhQUBoEBAaBIQGAaFBwBas2DBM77XN7v3xTe+nDgskNAjMb+k48ls3wxhMNAgIDQJCg4DQICA0CAgNAvO7vP/1yO/zZwHOyESDgNAgML+l47GOXXKewrtlq5vFr5OJBgGhQUBoEFjPOdo5nfP8kEkw0SAgNAhYOrJe4W4hEw0CQoOA0CDgHC02xVvrel/H8ZloEBAaBCwdWa9T79jZ8+cCEw0CQoOApSOcyp6lqIkGAaFBQGgQEBoEhAYBoUHA5f2Ym8Wv0/R+6rBAQoOA0CAgNAgIDQJCg4DQICA0CAgNAnaGrJQ7j7ZMNAgIDQJCg4BztJhzo3Uy0SAgNAgIDQJCg4DQICA0CAgNAkKDgNAgYGdIzM3i18lEg4DQICA0CAgNAkKDgNAgIDQICA0CQoOA0CAgNAgIDQJCg4Dd+7FhmN5rm93745veTx0WSGgQ+B95TFGh0+1lsAAAAABJRU5ErkJggg==\" y=\"-8.740469\"/>\n   </g>\n   <g id=\"matplotlib.axis_1\">\n    <g id=\"xtick_1\">\n     <g id=\"line2d_1\">\n      <defs>\n       <path d=\"M 0 0 \nL 0 3.5 \n\" id=\"m13920d453d\" style=\"stroke:#000000;stroke-width:0.8;\"/>\n      </defs>\n      <g>\n       <use style=\"stroke:#000000;stroke-width:0.8;\" x=\"28.62375\" xlink:href=\"#m13920d453d\" y=\"226.740469\"/>\n      </g>\n     </g>\n     <g id=\"text_1\">\n      <!-- 0 -->\n      <defs>\n       <path d=\"M 31.78125 66.40625 \nQ 24.171875 66.40625 20.328125 58.90625 \nQ 16.5 51.421875 16.5 36.375 \nQ 16.5 21.390625 20.328125 13.890625 \nQ 24.171875 6.390625 31.78125 6.390625 \nQ 39.453125 6.390625 43.28125 13.890625 \nQ 47.125 21.390625 47.125 36.375 \nQ 47.125 51.421875 43.28125 58.90625 \nQ 39.453125 66.40625 31.78125 66.40625 \nz\nM 31.78125 74.21875 \nQ 44.046875 74.21875 50.515625 64.515625 \nQ 56.984375 54.828125 56.984375 36.375 \nQ 56.984375 17.96875 50.515625 8.265625 \nQ 44.046875 -1.421875 31.78125 -1.421875 \nQ 19.53125 -1.421875 13.0625 8.265625 \nQ 6.59375 17.96875 6.59375 36.375 \nQ 6.59375 54.828125 13.0625 64.515625 \nQ 19.53125 74.21875 31.78125 74.21875 \nz\n\" id=\"DejaVuSans-48\"/>\n      </defs>\n      <g transform=\"translate(25.4425 241.338906)scale(0.1 -0.1)\">\n       <use xlink:href=\"#DejaVuSans-48\"/>\n      </g>\n     </g>\n    </g>\n    <g id=\"xtick_2\">\n     <g id=\"line2d_2\">\n      <g>\n       <use style=\"stroke:#000000;stroke-width:0.8;\" x=\"62.59875\" xlink:href=\"#m13920d453d\" y=\"226.740469\"/>\n      </g>\n     </g>\n     <g id=\"text_2\">\n      <!-- 10 -->\n      <defs>\n       <path d=\"M 12.40625 8.296875 \nL 28.515625 8.296875 \nL 28.515625 63.921875 \nL 10.984375 60.40625 \nL 10.984375 69.390625 \nL 28.421875 72.90625 \nL 38.28125 72.90625 \nL 38.28125 8.296875 \nL 54.390625 8.296875 \nL 54.390625 0 \nL 12.40625 0 \nz\n\" id=\"DejaVuSans-49\"/>\n      </defs>\n      <g transform=\"translate(56.23625 241.338906)scale(0.1 -0.1)\">\n       <use xlink:href=\"#DejaVuSans-49\"/>\n       <use x=\"63.623047\" xlink:href=\"#DejaVuSans-48\"/>\n      </g>\n     </g>\n    </g>\n    <g id=\"xtick_3\">\n     <g id=\"line2d_3\">\n      <g>\n       <use style=\"stroke:#000000;stroke-width:0.8;\" x=\"96.57375\" xlink:href=\"#m13920d453d\" y=\"226.740469\"/>\n      </g>\n     </g>\n     <g id=\"text_3\">\n      <!-- 20 -->\n      <defs>\n       <path d=\"M 19.1875 8.296875 \nL 53.609375 8.296875 \nL 53.609375 0 \nL 7.328125 0 \nL 7.328125 8.296875 \nQ 12.9375 14.109375 22.625 23.890625 \nQ 32.328125 33.6875 34.8125 36.53125 \nQ 39.546875 41.84375 41.421875 45.53125 \nQ 43.3125 49.21875 43.3125 52.78125 \nQ 43.3125 58.59375 39.234375 62.25 \nQ 35.15625 65.921875 28.609375 65.921875 \nQ 23.96875 65.921875 18.8125 64.3125 \nQ 13.671875 62.703125 7.8125 59.421875 \nL 7.8125 69.390625 \nQ 13.765625 71.78125 18.9375 73 \nQ 24.125 74.21875 28.421875 74.21875 \nQ 39.75 74.21875 46.484375 68.546875 \nQ 53.21875 62.890625 53.21875 53.421875 \nQ 53.21875 48.921875 51.53125 44.890625 \nQ 49.859375 40.875 45.40625 35.40625 \nQ 44.1875 33.984375 37.640625 27.21875 \nQ 31.109375 20.453125 19.1875 8.296875 \nz\n\" id=\"DejaVuSans-50\"/>\n      </defs>\n      <g transform=\"translate(90.21125 241.338906)scale(0.1 -0.1)\">\n       <use xlink:href=\"#DejaVuSans-50\"/>\n       <use x=\"63.623047\" xlink:href=\"#DejaVuSans-48\"/>\n      </g>\n     </g>\n    </g>\n    <g id=\"xtick_4\">\n     <g id=\"line2d_4\">\n      <g>\n       <use style=\"stroke:#000000;stroke-width:0.8;\" x=\"130.54875\" xlink:href=\"#m13920d453d\" y=\"226.740469\"/>\n      </g>\n     </g>\n     <g id=\"text_4\">\n      <!-- 30 -->\n      <defs>\n       <path d=\"M 40.578125 39.3125 \nQ 47.65625 37.796875 51.625 33 \nQ 55.609375 28.21875 55.609375 21.1875 \nQ 55.609375 10.40625 48.1875 4.484375 \nQ 40.765625 -1.421875 27.09375 -1.421875 \nQ 22.515625 -1.421875 17.65625 -0.515625 \nQ 12.796875 0.390625 7.625 2.203125 \nL 7.625 11.71875 \nQ 11.71875 9.328125 16.59375 8.109375 \nQ 21.484375 6.890625 26.8125 6.890625 \nQ 36.078125 6.890625 40.9375 10.546875 \nQ 45.796875 14.203125 45.796875 21.1875 \nQ 45.796875 27.640625 41.28125 31.265625 \nQ 36.765625 34.90625 28.71875 34.90625 \nL 20.21875 34.90625 \nL 20.21875 43.015625 \nL 29.109375 43.015625 \nQ 36.375 43.015625 40.234375 45.921875 \nQ 44.09375 48.828125 44.09375 54.296875 \nQ 44.09375 59.90625 40.109375 62.90625 \nQ 36.140625 65.921875 28.71875 65.921875 \nQ 24.65625 65.921875 20.015625 65.03125 \nQ 15.375 64.15625 9.8125 62.3125 \nL 9.8125 71.09375 \nQ 15.4375 72.65625 20.34375 73.4375 \nQ 25.25 74.21875 29.59375 74.21875 \nQ 40.828125 74.21875 47.359375 69.109375 \nQ 53.90625 64.015625 53.90625 55.328125 \nQ 53.90625 49.265625 50.4375 45.09375 \nQ 46.96875 40.921875 40.578125 39.3125 \nz\n\" id=\"DejaVuSans-51\"/>\n      </defs>\n      <g transform=\"translate(124.18625 241.338906)scale(0.1 -0.1)\">\n       <use xlink:href=\"#DejaVuSans-51\"/>\n       <use x=\"63.623047\" xlink:href=\"#DejaVuSans-48\"/>\n      </g>\n     </g>\n    </g>\n    <g id=\"xtick_5\">\n     <g id=\"line2d_5\">\n      <g>\n       <use style=\"stroke:#000000;stroke-width:0.8;\" x=\"164.52375\" xlink:href=\"#m13920d453d\" y=\"226.740469\"/>\n      </g>\n     </g>\n     <g id=\"text_5\">\n      <!-- 40 -->\n      <defs>\n       <path d=\"M 37.796875 64.3125 \nL 12.890625 25.390625 \nL 37.796875 25.390625 \nz\nM 35.203125 72.90625 \nL 47.609375 72.90625 \nL 47.609375 25.390625 \nL 58.015625 25.390625 \nL 58.015625 17.1875 \nL 47.609375 17.1875 \nL 47.609375 0 \nL 37.796875 0 \nL 37.796875 17.1875 \nL 4.890625 17.1875 \nL 4.890625 26.703125 \nz\n\" id=\"DejaVuSans-52\"/>\n      </defs>\n      <g transform=\"translate(158.16125 241.338906)scale(0.1 -0.1)\">\n       <use xlink:href=\"#DejaVuSans-52\"/>\n       <use x=\"63.623047\" xlink:href=\"#DejaVuSans-48\"/>\n      </g>\n     </g>\n    </g>\n    <g id=\"xtick_6\">\n     <g id=\"line2d_6\">\n      <g>\n       <use style=\"stroke:#000000;stroke-width:0.8;\" x=\"198.49875\" xlink:href=\"#m13920d453d\" y=\"226.740469\"/>\n      </g>\n     </g>\n     <g id=\"text_6\">\n      <!-- 50 -->\n      <defs>\n       <path d=\"M 10.796875 72.90625 \nL 49.515625 72.90625 \nL 49.515625 64.59375 \nL 19.828125 64.59375 \nL 19.828125 46.734375 \nQ 21.96875 47.46875 24.109375 47.828125 \nQ 26.265625 48.1875 28.421875 48.1875 \nQ 40.625 48.1875 47.75 41.5 \nQ 54.890625 34.8125 54.890625 23.390625 \nQ 54.890625 11.625 47.5625 5.09375 \nQ 40.234375 -1.421875 26.90625 -1.421875 \nQ 22.3125 -1.421875 17.546875 -0.640625 \nQ 12.796875 0.140625 7.71875 1.703125 \nL 7.71875 11.625 \nQ 12.109375 9.234375 16.796875 8.0625 \nQ 21.484375 6.890625 26.703125 6.890625 \nQ 35.15625 6.890625 40.078125 11.328125 \nQ 45.015625 15.765625 45.015625 23.390625 \nQ 45.015625 31 40.078125 35.4375 \nQ 35.15625 39.890625 26.703125 39.890625 \nQ 22.75 39.890625 18.8125 39.015625 \nQ 14.890625 38.140625 10.796875 36.28125 \nz\n\" id=\"DejaVuSans-53\"/>\n      </defs>\n      <g transform=\"translate(192.13625 241.338906)scale(0.1 -0.1)\">\n       <use xlink:href=\"#DejaVuSans-53\"/>\n       <use x=\"63.623047\" xlink:href=\"#DejaVuSans-48\"/>\n      </g>\n     </g>\n    </g>\n    <g id=\"xtick_7\">\n     <g id=\"line2d_7\">\n      <g>\n       <use style=\"stroke:#000000;stroke-width:0.8;\" x=\"232.47375\" xlink:href=\"#m13920d453d\" y=\"226.740469\"/>\n      </g>\n     </g>\n     <g id=\"text_7\">\n      <!-- 60 -->\n      <defs>\n       <path d=\"M 33.015625 40.375 \nQ 26.375 40.375 22.484375 35.828125 \nQ 18.609375 31.296875 18.609375 23.390625 \nQ 18.609375 15.53125 22.484375 10.953125 \nQ 26.375 6.390625 33.015625 6.390625 \nQ 39.65625 6.390625 43.53125 10.953125 \nQ 47.40625 15.53125 47.40625 23.390625 \nQ 47.40625 31.296875 43.53125 35.828125 \nQ 39.65625 40.375 33.015625 40.375 \nz\nM 52.59375 71.296875 \nL 52.59375 62.3125 \nQ 48.875 64.0625 45.09375 64.984375 \nQ 41.3125 65.921875 37.59375 65.921875 \nQ 27.828125 65.921875 22.671875 59.328125 \nQ 17.53125 52.734375 16.796875 39.40625 \nQ 19.671875 43.65625 24.015625 45.921875 \nQ 28.375 48.1875 33.59375 48.1875 \nQ 44.578125 48.1875 50.953125 41.515625 \nQ 57.328125 34.859375 57.328125 23.390625 \nQ 57.328125 12.15625 50.6875 5.359375 \nQ 44.046875 -1.421875 33.015625 -1.421875 \nQ 20.359375 -1.421875 13.671875 8.265625 \nQ 6.984375 17.96875 6.984375 36.375 \nQ 6.984375 53.65625 15.1875 63.9375 \nQ 23.390625 74.21875 37.203125 74.21875 \nQ 40.921875 74.21875 44.703125 73.484375 \nQ 48.484375 72.75 52.59375 71.296875 \nz\n\" id=\"DejaVuSans-54\"/>\n      </defs>\n      <g transform=\"translate(226.11125 241.338906)scale(0.1 -0.1)\">\n       <use xlink:href=\"#DejaVuSans-54\"/>\n       <use x=\"63.623047\" xlink:href=\"#DejaVuSans-48\"/>\n      </g>\n     </g>\n    </g>\n   </g>\n   <g id=\"matplotlib.axis_2\">\n    <g id=\"ytick_1\">\n     <g id=\"line2d_8\">\n      <defs>\n       <path d=\"M 0 0 \nL -3.5 0 \n\" id=\"m3f4799f06e\" style=\"stroke:#000000;stroke-width:0.8;\"/>\n      </defs>\n      <g>\n       <use style=\"stroke:#000000;stroke-width:0.8;\" x=\"26.925\" xlink:href=\"#m3f4799f06e\" y=\"10.999219\"/>\n      </g>\n     </g>\n     <g id=\"text_8\">\n      <!-- 0 -->\n      <g transform=\"translate(13.5625 14.798437)scale(0.1 -0.1)\">\n       <use xlink:href=\"#DejaVuSans-48\"/>\n      </g>\n     </g>\n    </g>\n    <g id=\"ytick_2\">\n     <g id=\"line2d_9\">\n      <g>\n       <use style=\"stroke:#000000;stroke-width:0.8;\" x=\"26.925\" xlink:href=\"#m3f4799f06e\" y=\"44.974219\"/>\n      </g>\n     </g>\n     <g id=\"text_9\">\n      <!-- 10 -->\n      <g transform=\"translate(7.2 48.773437)scale(0.1 -0.1)\">\n       <use xlink:href=\"#DejaVuSans-49\"/>\n       <use x=\"63.623047\" xlink:href=\"#DejaVuSans-48\"/>\n      </g>\n     </g>\n    </g>\n    <g id=\"ytick_3\">\n     <g id=\"line2d_10\">\n      <g>\n       <use style=\"stroke:#000000;stroke-width:0.8;\" x=\"26.925\" xlink:href=\"#m3f4799f06e\" y=\"78.949219\"/>\n      </g>\n     </g>\n     <g id=\"text_10\">\n      <!-- 20 -->\n      <g transform=\"translate(7.2 82.748437)scale(0.1 -0.1)\">\n       <use xlink:href=\"#DejaVuSans-50\"/>\n       <use x=\"63.623047\" xlink:href=\"#DejaVuSans-48\"/>\n      </g>\n     </g>\n    </g>\n    <g id=\"ytick_4\">\n     <g id=\"line2d_11\">\n      <g>\n       <use style=\"stroke:#000000;stroke-width:0.8;\" x=\"26.925\" xlink:href=\"#m3f4799f06e\" y=\"112.924219\"/>\n      </g>\n     </g>\n     <g id=\"text_11\">\n      <!-- 30 -->\n      <g transform=\"translate(7.2 116.723437)scale(0.1 -0.1)\">\n       <use xlink:href=\"#DejaVuSans-51\"/>\n       <use x=\"63.623047\" xlink:href=\"#DejaVuSans-48\"/>\n      </g>\n     </g>\n    </g>\n    <g id=\"ytick_5\">\n     <g id=\"line2d_12\">\n      <g>\n       <use style=\"stroke:#000000;stroke-width:0.8;\" x=\"26.925\" xlink:href=\"#m3f4799f06e\" y=\"146.899219\"/>\n      </g>\n     </g>\n     <g id=\"text_12\">\n      <!-- 40 -->\n      <g transform=\"translate(7.2 150.698437)scale(0.1 -0.1)\">\n       <use xlink:href=\"#DejaVuSans-52\"/>\n       <use x=\"63.623047\" xlink:href=\"#DejaVuSans-48\"/>\n      </g>\n     </g>\n    </g>\n    <g id=\"ytick_6\">\n     <g id=\"line2d_13\">\n      <g>\n       <use style=\"stroke:#000000;stroke-width:0.8;\" x=\"26.925\" xlink:href=\"#m3f4799f06e\" y=\"180.874219\"/>\n      </g>\n     </g>\n     <g id=\"text_13\">\n      <!-- 50 -->\n      <g transform=\"translate(7.2 184.673437)scale(0.1 -0.1)\">\n       <use xlink:href=\"#DejaVuSans-53\"/>\n       <use x=\"63.623047\" xlink:href=\"#DejaVuSans-48\"/>\n      </g>\n     </g>\n    </g>\n    <g id=\"ytick_7\">\n     <g id=\"line2d_14\">\n      <g>\n       <use style=\"stroke:#000000;stroke-width:0.8;\" x=\"26.925\" xlink:href=\"#m3f4799f06e\" y=\"214.849219\"/>\n      </g>\n     </g>\n     <g id=\"text_14\">\n      <!-- 60 -->\n      <g transform=\"translate(7.2 218.648437)scale(0.1 -0.1)\">\n       <use xlink:href=\"#DejaVuSans-54\"/>\n       <use x=\"63.623047\" xlink:href=\"#DejaVuSans-48\"/>\n      </g>\n     </g>\n    </g>\n   </g>\n   <g id=\"patch_3\">\n    <path d=\"M 26.925 226.740469 \nL 26.925 9.300469 \n\" style=\"fill:none;stroke:#000000;stroke-linecap:square;stroke-linejoin:miter;stroke-width:0.8;\"/>\n   </g>\n   <g id=\"patch_4\">\n    <path d=\"M 244.365 226.740469 \nL 244.365 9.300469 \n\" style=\"fill:none;stroke:#000000;stroke-linecap:square;stroke-linejoin:miter;stroke-width:0.8;\"/>\n   </g>\n   <g id=\"patch_5\">\n    <path d=\"M 26.925 226.740469 \nL 244.365 226.740469 \n\" style=\"fill:none;stroke:#000000;stroke-linecap:square;stroke-linejoin:miter;stroke-width:0.8;\"/>\n   </g>\n   <g id=\"patch_6\">\n    <path d=\"M 26.925 9.300469 \nL 244.365 9.300469 \n\" style=\"fill:none;stroke:#000000;stroke-linecap:square;stroke-linejoin:miter;stroke-width:0.8;\"/>\n   </g>\n  </g>\n </g>\n <defs>\n  <clipPath id=\"pa037c7844d\">\n   <rect height=\"217.44\" width=\"217.44\" x=\"26.925\" y=\"9.300469\"/>\n  </clipPath>\n </defs>\n</svg>\n",
      "image/png": "[encoded data removed]"
     },
     "metadata": {
      "needs_background": "light"
     }
    }
   ],
   "source": [
    "plt.imshow(obs)"
   ]
  },
  {
   "cell_type": "code",
   "execution_count": 12,
   "metadata": {},
   "outputs": [],
   "source": [
    "vae_encoded_obs = model.update(obs, 0)"
   ]
  },
  {
   "cell_type": "code",
   "execution_count": 13,
   "metadata": {},
   "outputs": [
    {
     "output_type": "execute_result",
     "data": {
      "text/plain": [
       "array([ 0.4881, -1.0802,  1.6865, -0.5874,  1.7874,  1.431 ,  1.218 ,\n",
       "       -0.3843, -0.5762, -0.4717,  1.6058, -0.4303, -0.1316,  0.8581,\n",
       "        0.6585,  0.2458,  1.7605,  0.1083, -0.552 , -0.5599,  0.0399,\n",
       "        1.0717,  0.8242,  0.4278,  2.3338,  1.4592, -0.2384,  0.077 ,\n",
       "        0.1214, -0.7107,  0.7582, -0.6444], dtype=float32)"
      ]
     },
     "metadata": {},
     "execution_count": 13
    }
   ],
   "source": [
    "vae_encoded_obs"
   ]
  },
  {
   "cell_type": "code",
   "execution_count": 14,
   "metadata": {},
   "outputs": [],
   "source": [
    "recon = model.vae.decoder.predict(np.array([vae_encoded_obs]))[0]"
   ]
  },
  {
   "cell_type": "code",
   "execution_count": 15,
   "metadata": {},
   "outputs": [
    {
     "output_type": "execute_result",
     "data": {
      "text/plain": [
       "<matplotlib.image.AxesImage at 0x7f4f0838cc50>"
      ]
     },
     "metadata": {},
     "execution_count": 15
    },
    {
     "output_type": "display_data",
     "data": {
      "text/plain": "<Figure size 432x288 with 1 Axes>",
      "image/svg+xml": "<?xml version=\"1.0\" encoding=\"utf-8\" standalone=\"no\"?>\n<!DOCTYPE svg PUBLIC \"-//W3C//DTD SVG 1.1//EN\"\n  \"http://www.w3.org/Graphics/SVG/1.1/DTD/svg11.dtd\">\n<!-- Created with matplotlib (https://matplotlib.org/) -->\n<svg height=\"250.618594pt\" version=\"1.1\" viewBox=\"0 0 251.565 250.618594\" width=\"251.565pt\" xmlns=\"http://www.w3.org/2000/svg\" xmlns:xlink=\"http://www.w3.org/1999/xlink\">\n <defs>\n  <style type=\"text/css\">\n*{stroke-linecap:butt;stroke-linejoin:round;}\n  </style>\n </defs>\n <g id=\"figure_1\">\n  <g id=\"patch_1\">\n   <path d=\"M 0 250.618594 \nL 251.565 250.618594 \nL 251.565 0 \nL 0 0 \nz\n\" style=\"fill:none;\"/>\n  </g>\n  <g id=\"axes_1\">\n   <g id=\"patch_2\">\n    <path d=\"M 26.925 226.740469 \nL 244.365 226.740469 \nL 244.365 9.300469 \nL 26.925 9.300469 \nz\n\" style=\"fill:#ffffff;\"/>\n   </g>\n   <g clip-path=\"url(#p8492152a3a)\">\n    <image height=\"218\" id=\"imageb52991314f\" transform=\"scale(1 -1)translate(0 -218)\" width=\"218\" x=\"26.925\" xlink:href=\"data:image/png;base64,\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\" y=\"-8.740469\"/>\n   </g>\n   <g id=\"matplotlib.axis_1\">\n    <g id=\"xtick_1\">\n     <g id=\"line2d_1\">\n      <defs>\n       <path d=\"M 0 0 \nL 0 3.5 \n\" id=\"m165caf8661\" style=\"stroke:#000000;stroke-width:0.8;\"/>\n      </defs>\n      <g>\n       <use style=\"stroke:#000000;stroke-width:0.8;\" x=\"28.62375\" xlink:href=\"#m165caf8661\" y=\"226.740469\"/>\n      </g>\n     </g>\n     <g id=\"text_1\">\n      <!-- 0 -->\n      <defs>\n       <path d=\"M 31.78125 66.40625 \nQ 24.171875 66.40625 20.328125 58.90625 \nQ 16.5 51.421875 16.5 36.375 \nQ 16.5 21.390625 20.328125 13.890625 \nQ 24.171875 6.390625 31.78125 6.390625 \nQ 39.453125 6.390625 43.28125 13.890625 \nQ 47.125 21.390625 47.125 36.375 \nQ 47.125 51.421875 43.28125 58.90625 \nQ 39.453125 66.40625 31.78125 66.40625 \nz\nM 31.78125 74.21875 \nQ 44.046875 74.21875 50.515625 64.515625 \nQ 56.984375 54.828125 56.984375 36.375 \nQ 56.984375 17.96875 50.515625 8.265625 \nQ 44.046875 -1.421875 31.78125 -1.421875 \nQ 19.53125 -1.421875 13.0625 8.265625 \nQ 6.59375 17.96875 6.59375 36.375 \nQ 6.59375 54.828125 13.0625 64.515625 \nQ 19.53125 74.21875 31.78125 74.21875 \nz\n\" id=\"DejaVuSans-48\"/>\n      </defs>\n      <g transform=\"translate(25.4425 241.338906)scale(0.1 -0.1)\">\n       <use xlink:href=\"#DejaVuSans-48\"/>\n      </g>\n     </g>\n    </g>\n    <g id=\"xtick_2\">\n     <g id=\"line2d_2\">\n      <g>\n       <use style=\"stroke:#000000;stroke-width:0.8;\" x=\"62.59875\" xlink:href=\"#m165caf8661\" y=\"226.740469\"/>\n      </g>\n     </g>\n     <g id=\"text_2\">\n      <!-- 10 -->\n      <defs>\n       <path d=\"M 12.40625 8.296875 \nL 28.515625 8.296875 \nL 28.515625 63.921875 \nL 10.984375 60.40625 \nL 10.984375 69.390625 \nL 28.421875 72.90625 \nL 38.28125 72.90625 \nL 38.28125 8.296875 \nL 54.390625 8.296875 \nL 54.390625 0 \nL 12.40625 0 \nz\n\" id=\"DejaVuSans-49\"/>\n      </defs>\n      <g transform=\"translate(56.23625 241.338906)scale(0.1 -0.1)\">\n       <use xlink:href=\"#DejaVuSans-49\"/>\n       <use x=\"63.623047\" xlink:href=\"#DejaVuSans-48\"/>\n      </g>\n     </g>\n    </g>\n    <g id=\"xtick_3\">\n     <g id=\"line2d_3\">\n      <g>\n       <use style=\"stroke:#000000;stroke-width:0.8;\" x=\"96.57375\" xlink:href=\"#m165caf8661\" y=\"226.740469\"/>\n      </g>\n     </g>\n     <g id=\"text_3\">\n      <!-- 20 -->\n      <defs>\n       <path d=\"M 19.1875 8.296875 \nL 53.609375 8.296875 \nL 53.609375 0 \nL 7.328125 0 \nL 7.328125 8.296875 \nQ 12.9375 14.109375 22.625 23.890625 \nQ 32.328125 33.6875 34.8125 36.53125 \nQ 39.546875 41.84375 41.421875 45.53125 \nQ 43.3125 49.21875 43.3125 52.78125 \nQ 43.3125 58.59375 39.234375 62.25 \nQ 35.15625 65.921875 28.609375 65.921875 \nQ 23.96875 65.921875 18.8125 64.3125 \nQ 13.671875 62.703125 7.8125 59.421875 \nL 7.8125 69.390625 \nQ 13.765625 71.78125 18.9375 73 \nQ 24.125 74.21875 28.421875 74.21875 \nQ 39.75 74.21875 46.484375 68.546875 \nQ 53.21875 62.890625 53.21875 53.421875 \nQ 53.21875 48.921875 51.53125 44.890625 \nQ 49.859375 40.875 45.40625 35.40625 \nQ 44.1875 33.984375 37.640625 27.21875 \nQ 31.109375 20.453125 19.1875 8.296875 \nz\n\" id=\"DejaVuSans-50\"/>\n      </defs>\n      <g transform=\"translate(90.21125 241.338906)scale(0.1 -0.1)\">\n       <use xlink:href=\"#DejaVuSans-50\"/>\n       <use x=\"63.623047\" xlink:href=\"#DejaVuSans-48\"/>\n      </g>\n     </g>\n    </g>\n    <g id=\"xtick_4\">\n     <g id=\"line2d_4\">\n      <g>\n       <use style=\"stroke:#000000;stroke-width:0.8;\" x=\"130.54875\" xlink:href=\"#m165caf8661\" y=\"226.740469\"/>\n      </g>\n     </g>\n     <g id=\"text_4\">\n      <!-- 30 -->\n      <defs>\n       <path d=\"M 40.578125 39.3125 \nQ 47.65625 37.796875 51.625 33 \nQ 55.609375 28.21875 55.609375 21.1875 \nQ 55.609375 10.40625 48.1875 4.484375 \nQ 40.765625 -1.421875 27.09375 -1.421875 \nQ 22.515625 -1.421875 17.65625 -0.515625 \nQ 12.796875 0.390625 7.625 2.203125 \nL 7.625 11.71875 \nQ 11.71875 9.328125 16.59375 8.109375 \nQ 21.484375 6.890625 26.8125 6.890625 \nQ 36.078125 6.890625 40.9375 10.546875 \nQ 45.796875 14.203125 45.796875 21.1875 \nQ 45.796875 27.640625 41.28125 31.265625 \nQ 36.765625 34.90625 28.71875 34.90625 \nL 20.21875 34.90625 \nL 20.21875 43.015625 \nL 29.109375 43.015625 \nQ 36.375 43.015625 40.234375 45.921875 \nQ 44.09375 48.828125 44.09375 54.296875 \nQ 44.09375 59.90625 40.109375 62.90625 \nQ 36.140625 65.921875 28.71875 65.921875 \nQ 24.65625 65.921875 20.015625 65.03125 \nQ 15.375 64.15625 9.8125 62.3125 \nL 9.8125 71.09375 \nQ 15.4375 72.65625 20.34375 73.4375 \nQ 25.25 74.21875 29.59375 74.21875 \nQ 40.828125 74.21875 47.359375 69.109375 \nQ 53.90625 64.015625 53.90625 55.328125 \nQ 53.90625 49.265625 50.4375 45.09375 \nQ 46.96875 40.921875 40.578125 39.3125 \nz\n\" id=\"DejaVuSans-51\"/>\n      </defs>\n      <g transform=\"translate(124.18625 241.338906)scale(0.1 -0.1)\">\n       <use xlink:href=\"#DejaVuSans-51\"/>\n       <use x=\"63.623047\" xlink:href=\"#DejaVuSans-48\"/>\n      </g>\n     </g>\n    </g>\n    <g id=\"xtick_5\">\n     <g id=\"line2d_5\">\n      <g>\n       <use style=\"stroke:#000000;stroke-width:0.8;\" x=\"164.52375\" xlink:href=\"#m165caf8661\" y=\"226.740469\"/>\n      </g>\n     </g>\n     <g id=\"text_5\">\n      <!-- 40 -->\n      <defs>\n       <path d=\"M 37.796875 64.3125 \nL 12.890625 25.390625 \nL 37.796875 25.390625 \nz\nM 35.203125 72.90625 \nL 47.609375 72.90625 \nL 47.609375 25.390625 \nL 58.015625 25.390625 \nL 58.015625 17.1875 \nL 47.609375 17.1875 \nL 47.609375 0 \nL 37.796875 0 \nL 37.796875 17.1875 \nL 4.890625 17.1875 \nL 4.890625 26.703125 \nz\n\" id=\"DejaVuSans-52\"/>\n      </defs>\n      <g transform=\"translate(158.16125 241.338906)scale(0.1 -0.1)\">\n       <use xlink:href=\"#DejaVuSans-52\"/>\n       <use x=\"63.623047\" xlink:href=\"#DejaVuSans-48\"/>\n      </g>\n     </g>\n    </g>\n    <g id=\"xtick_6\">\n     <g id=\"line2d_6\">\n      <g>\n       <use style=\"stroke:#000000;stroke-width:0.8;\" x=\"198.49875\" xlink:href=\"#m165caf8661\" y=\"226.740469\"/>\n      </g>\n     </g>\n     <g id=\"text_6\">\n      <!-- 50 -->\n      <defs>\n       <path d=\"M 10.796875 72.90625 \nL 49.515625 72.90625 \nL 49.515625 64.59375 \nL 19.828125 64.59375 \nL 19.828125 46.734375 \nQ 21.96875 47.46875 24.109375 47.828125 \nQ 26.265625 48.1875 28.421875 48.1875 \nQ 40.625 48.1875 47.75 41.5 \nQ 54.890625 34.8125 54.890625 23.390625 \nQ 54.890625 11.625 47.5625 5.09375 \nQ 40.234375 -1.421875 26.90625 -1.421875 \nQ 22.3125 -1.421875 17.546875 -0.640625 \nQ 12.796875 0.140625 7.71875 1.703125 \nL 7.71875 11.625 \nQ 12.109375 9.234375 16.796875 8.0625 \nQ 21.484375 6.890625 26.703125 6.890625 \nQ 35.15625 6.890625 40.078125 11.328125 \nQ 45.015625 15.765625 45.015625 23.390625 \nQ 45.015625 31 40.078125 35.4375 \nQ 35.15625 39.890625 26.703125 39.890625 \nQ 22.75 39.890625 18.8125 39.015625 \nQ 14.890625 38.140625 10.796875 36.28125 \nz\n\" id=\"DejaVuSans-53\"/>\n      </defs>\n      <g transform=\"translate(192.13625 241.338906)scale(0.1 -0.1)\">\n       <use xlink:href=\"#DejaVuSans-53\"/>\n       <use x=\"63.623047\" xlink:href=\"#DejaVuSans-48\"/>\n      </g>\n     </g>\n    </g>\n    <g id=\"xtick_7\">\n     <g id=\"line2d_7\">\n      <g>\n       <use style=\"stroke:#000000;stroke-width:0.8;\" x=\"232.47375\" xlink:href=\"#m165caf8661\" y=\"226.740469\"/>\n      </g>\n     </g>\n     <g id=\"text_7\">\n      <!-- 60 -->\n      <defs>\n       <path d=\"M 33.015625 40.375 \nQ 26.375 40.375 22.484375 35.828125 \nQ 18.609375 31.296875 18.609375 23.390625 \nQ 18.609375 15.53125 22.484375 10.953125 \nQ 26.375 6.390625 33.015625 6.390625 \nQ 39.65625 6.390625 43.53125 10.953125 \nQ 47.40625 15.53125 47.40625 23.390625 \nQ 47.40625 31.296875 43.53125 35.828125 \nQ 39.65625 40.375 33.015625 40.375 \nz\nM 52.59375 71.296875 \nL 52.59375 62.3125 \nQ 48.875 64.0625 45.09375 64.984375 \nQ 41.3125 65.921875 37.59375 65.921875 \nQ 27.828125 65.921875 22.671875 59.328125 \nQ 17.53125 52.734375 16.796875 39.40625 \nQ 19.671875 43.65625 24.015625 45.921875 \nQ 28.375 48.1875 33.59375 48.1875 \nQ 44.578125 48.1875 50.953125 41.515625 \nQ 57.328125 34.859375 57.328125 23.390625 \nQ 57.328125 12.15625 50.6875 5.359375 \nQ 44.046875 -1.421875 33.015625 -1.421875 \nQ 20.359375 -1.421875 13.671875 8.265625 \nQ 6.984375 17.96875 6.984375 36.375 \nQ 6.984375 53.65625 15.1875 63.9375 \nQ 23.390625 74.21875 37.203125 74.21875 \nQ 40.921875 74.21875 44.703125 73.484375 \nQ 48.484375 72.75 52.59375 71.296875 \nz\n\" id=\"DejaVuSans-54\"/>\n      </defs>\n      <g transform=\"translate(226.11125 241.338906)scale(0.1 -0.1)\">\n       <use xlink:href=\"#DejaVuSans-54\"/>\n       <use x=\"63.623047\" xlink:href=\"#DejaVuSans-48\"/>\n      </g>\n     </g>\n    </g>\n   </g>\n   <g id=\"matplotlib.axis_2\">\n    <g id=\"ytick_1\">\n     <g id=\"line2d_8\">\n      <defs>\n       <path d=\"M 0 0 \nL -3.5 0 \n\" id=\"m7f76e9900b\" style=\"stroke:#000000;stroke-width:0.8;\"/>\n      </defs>\n      <g>\n       <use style=\"stroke:#000000;stroke-width:0.8;\" x=\"26.925\" xlink:href=\"#m7f76e9900b\" y=\"10.999219\"/>\n      </g>\n     </g>\n     <g id=\"text_8\">\n      <!-- 0 -->\n      <g transform=\"translate(13.5625 14.798437)scale(0.1 -0.1)\">\n       <use xlink:href=\"#DejaVuSans-48\"/>\n      </g>\n     </g>\n    </g>\n    <g id=\"ytick_2\">\n     <g id=\"line2d_9\">\n      <g>\n       <use style=\"stroke:#000000;stroke-width:0.8;\" x=\"26.925\" xlink:href=\"#m7f76e9900b\" y=\"44.974219\"/>\n      </g>\n     </g>\n     <g id=\"text_9\">\n      <!-- 10 -->\n      <g transform=\"translate(7.2 48.773437)scale(0.1 -0.1)\">\n       <use xlink:href=\"#DejaVuSans-49\"/>\n       <use x=\"63.623047\" xlink:href=\"#DejaVuSans-48\"/>\n      </g>\n     </g>\n    </g>\n    <g id=\"ytick_3\">\n     <g id=\"line2d_10\">\n      <g>\n       <use style=\"stroke:#000000;stroke-width:0.8;\" x=\"26.925\" xlink:href=\"#m7f76e9900b\" y=\"78.949219\"/>\n      </g>\n     </g>\n     <g id=\"text_10\">\n      <!-- 20 -->\n      <g transform=\"translate(7.2 82.748437)scale(0.1 -0.1)\">\n       <use xlink:href=\"#DejaVuSans-50\"/>\n       <use x=\"63.623047\" xlink:href=\"#DejaVuSans-48\"/>\n      </g>\n     </g>\n    </g>\n    <g id=\"ytick_4\">\n     <g id=\"line2d_11\">\n      <g>\n       <use style=\"stroke:#000000;stroke-width:0.8;\" x=\"26.925\" xlink:href=\"#m7f76e9900b\" y=\"112.924219\"/>\n      </g>\n     </g>\n     <g id=\"text_11\">\n      <!-- 30 -->\n      <g transform=\"translate(7.2 116.723437)scale(0.1 -0.1)\">\n       <use xlink:href=\"#DejaVuSans-51\"/>\n       <use x=\"63.623047\" xlink:href=\"#DejaVuSans-48\"/>\n      </g>\n     </g>\n    </g>\n    <g id=\"ytick_5\">\n     <g id=\"line2d_12\">\n      <g>\n       <use style=\"stroke:#000000;stroke-width:0.8;\" x=\"26.925\" xlink:href=\"#m7f76e9900b\" y=\"146.899219\"/>\n      </g>\n     </g>\n     <g id=\"text_12\">\n      <!-- 40 -->\n      <g transform=\"translate(7.2 150.698437)scale(0.1 -0.1)\">\n       <use xlink:href=\"#DejaVuSans-52\"/>\n       <use x=\"63.623047\" xlink:href=\"#DejaVuSans-48\"/>\n      </g>\n     </g>\n    </g>\n    <g id=\"ytick_6\">\n     <g id=\"line2d_13\">\n      <g>\n       <use style=\"stroke:#000000;stroke-width:0.8;\" x=\"26.925\" xlink:href=\"#m7f76e9900b\" y=\"180.874219\"/>\n      </g>\n     </g>\n     <g id=\"text_13\">\n      <!-- 50 -->\n      <g transform=\"translate(7.2 184.673437)scale(0.1 -0.1)\">\n       <use xlink:href=\"#DejaVuSans-53\"/>\n       <use x=\"63.623047\" xlink:href=\"#DejaVuSans-48\"/>\n      </g>\n     </g>\n    </g>\n    <g id=\"ytick_7\">\n     <g id=\"line2d_14\">\n      <g>\n       <use style=\"stroke:#000000;stroke-width:0.8;\" x=\"26.925\" xlink:href=\"#m7f76e9900b\" y=\"214.849219\"/>\n      </g>\n     </g>\n     <g id=\"text_14\">\n      <!-- 60 -->\n      <g transform=\"translate(7.2 218.648437)scale(0.1 -0.1)\">\n       <use xlink:href=\"#DejaVuSans-54\"/>\n       <use x=\"63.623047\" xlink:href=\"#DejaVuSans-48\"/>\n      </g>\n     </g>\n    </g>\n   </g>\n   <g id=\"patch_3\">\n    <path d=\"M 26.925 226.740469 \nL 26.925 9.300469 \n\" style=\"fill:none;stroke:#000000;stroke-linecap:square;stroke-linejoin:miter;stroke-width:0.8;\"/>\n   </g>\n   <g id=\"patch_4\">\n    <path d=\"M 244.365 226.740469 \nL 244.365 9.300469 \n\" style=\"fill:none;stroke:#000000;stroke-linecap:square;stroke-linejoin:miter;stroke-width:0.8;\"/>\n   </g>\n   <g id=\"patch_5\">\n    <path d=\"M 26.925 226.740469 \nL 244.365 226.740469 \n\" style=\"fill:none;stroke:#000000;stroke-linecap:square;stroke-linejoin:miter;stroke-width:0.8;\"/>\n   </g>\n   <g id=\"patch_6\">\n    <path d=\"M 26.925 9.300469 \nL 244.365 9.300469 \n\" style=\"fill:none;stroke:#000000;stroke-linecap:square;stroke-linejoin:miter;stroke-width:0.8;\"/>\n   </g>\n  </g>\n </g>\n <defs>\n  <clipPath id=\"p8492152a3a\">\n   <rect height=\"217.44\" width=\"217.44\" x=\"26.925\" y=\"9.300469\"/>\n  </clipPath>\n </defs>\n</svg>\n",
      "image/png": "[encoded data removed]"
     },
     "metadata": {
      "needs_background": "light"
     }
    }
   ],
   "source": [
    "plt.imshow(recon)"
   ]
  },
  {
   "cell_type": "code",
   "execution_count": 16,
   "metadata": {},
   "outputs": [],
   "source": [
    "# obs = obs_file[0]\n",
    "action = [0,1,0]\n",
    "reward = 0\n",
    "model.reset()\n",
    "total_reward = 0\n",
    "total_pseudo_reward = 0\n",
    "t = 0\n",
    "\n",
    "obs = model.env.reset()\n",
    "\n",
    "model.env.render('rgb_array')\n",
    "\n",
    "actions0 = []\n",
    "actions1 = []\n",
    "actions2 = []"
   ]
  },
  {
   "cell_type": "code",
   "execution_count": 17,
   "metadata": {},
   "outputs": [
    {
     "output_type": "stream",
     "name": "stdout",
     "text": [
      "0\n",
      "50\n",
      "100\n",
      "150\n",
      "200\n",
      "250\n",
      "300\n",
      "350\n",
      "400\n",
      "450\n",
      "500\n"
     ]
    }
   ],
   "source": [
    "# while(1):\n",
    "from PIL import Image, ImageDraw\n",
    "imagelist = []\n",
    "\n",
    "for i in range(550):\n",
    "    ######\n",
    "\n",
    "    obs = config.adjust_obs(obs)\n",
    "    reward = config.adjust_reward(reward)\n",
    "    \n",
    "    total_pseudo_reward+= reward\n",
    "\n",
    "    vae_encoded_obs = model.update(obs, 0)\n",
    "\n",
    "    recon = model.vae.decoder.predict(np.array([vae_encoded_obs]))[0]\n",
    "    \n",
    "#     input_to_rnn = [np.array([[np.concatenate([vae_encoded_obs, action, [reward]])]]),np.zeros(shape=(1,256)),np.zeros(shape=(1,256))]\n",
    "#     input_to_rnn = [np.array([[np.concatenate([np.zeros(32), action, [reward]])]]),np.array([model.hidden]),np.array([model.cell_values])]\n",
    "\n",
    "\n",
    "    input_to_rnn = [np.array([[np.concatenate([vae_encoded_obs, action, [reward]])]]),np.array([model.hidden]),np.array([model.cell_values])]\n",
    "\n",
    "    #     print(np.array([[np.concatenate([vae_encoded_obs, action, [reward]])]]).shape)\n",
    "    #     print(np.array([model.hidden]).shape)\n",
    "    #     print(np.array([model.cell_values]).shape)\n",
    "\n",
    "    out = model.rnn.forward.predict(input_to_rnn)\n",
    "\n",
    "    y_pred = out[0][0][0]\n",
    "    h = out[1][0]\n",
    "    c = out[2][0]\n",
    "\n",
    "    model.hidden = h\n",
    "    model.cell_values = c\n",
    "\n",
    "    next_z, next_reward, chosen_mu = get_z_from_rnn_output(y_pred)\n",
    "\n",
    "    recon_next_z = model.vae.decoder.predict(np.array([next_z]))[0]\n",
    "\n",
    "    controller_obs = np.concatenate([vae_encoded_obs,model.hidden])\n",
    "    action = model.get_action(controller_obs, t=0, add_noise=0)\n",
    "    #     actions0.append(action[0])\n",
    "    #     actions1.append(action[1])\n",
    "    #     actions2.append(action[2])\n",
    "\n",
    "    #     action = model.activations(action)\n",
    "#     action = [1,1,0]\n",
    "    obs, reward, done, _ = model.env.step(action)\n",
    "    \n",
    "    total_reward+= reward\n",
    "    img = Image.fromarray(obs)\n",
    "    imagelist.append(img)\n",
    "\n",
    "    # plt.gca().cla() \n",
    "    # plt.imshow( obs)\n",
    "\n",
    "    # display.clear_output(wait=True)\n",
    "    # display.display(plt.gcf()) \n",
    "    \n",
    "    # print(total_reward)\n",
    "    # print(total_pseudo_reward)\n",
    "    # print(t)\n",
    "    # print(action)\n",
    "    if i % 50 == 0:\n",
    "        print(i)\n",
    "    t += 1\n",
    "imagelist[0].save('ORIGINAL_out.gif', save_all=True, append_images=imagelist[1:])\n",
    "\n",
    "    #     print(action)"
   ]
  },
  {
   "cell_type": "code",
   "execution_count": null,
   "metadata": {},
   "outputs": [],
   "source": []
  }
 ],
 "metadata": {
  "kernelspec": {
   "display_name": "Python 3",
   "language": "python",
   "name": "python3"
  }
 },
 "nbformat": 4,
 "nbformat_minor": 2
}