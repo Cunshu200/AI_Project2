{
 "cells": [
  {
   "cell_type": "code",
   "execution_count": 37,
   "metadata": {},
   "outputs": [
    {
     "output_type": "stream",
     "name": "stdout",
     "text": [
      "The autoreload extension is already loaded. To reload it, use:\n  %reload_ext autoreload\n"
     ]
    }
   ],
   "source": [
    "%load_ext autoreload\n",
    "%autoreload 2"
   ]
  },
  {
   "cell_type": "code",
   "execution_count": 38,
   "metadata": {},
   "outputs": [],
   "source": [
    "%matplotlib inline\n",
    "import numpy as np\n",
    "from rnn.arch import RNN\n",
    "# from vae.arch import VAE\n",
    "from vae.arch_vaegan2 import VAE\n",
    "import matplotlib.pyplot as plt\n",
    "from gym.utils import seeding\n",
    "from IPython import display\n",
    "import time\n",
    "from model import make_model\n",
    "\n",
    "import config\n",
    "\n",
    "\n",
    "np.set_printoptions(precision=4, suppress = True)"
   ]
  },
  {
   "cell_type": "code",
   "execution_count": 39,
   "metadata": {},
   "outputs": [],
   "source": [
    "def get_mixture_coef(z_pred):\n",
    "\n",
    "    log_pi, mu, log_sigma = np.split(z_pred, 3, 1)\n",
    "    log_pi = log_pi - np.log(np.sum(np.exp(log_pi), axis = 1, keepdims = True))\n",
    "\n",
    "    return log_pi, mu, log_sigma\n",
    "\n",
    "def get_pi_idx(x, pdf):\n",
    "    # samples from a categorial distribution\n",
    "    N = pdf.size\n",
    "    accumulate = 0\n",
    "    for i in range(0, N):\n",
    "        accumulate += pdf[i]\n",
    "        if (accumulate >= x):\n",
    "            return i\n",
    "    random_value = np.random.randint(N)\n",
    "    #print('error with sampling ensemble, returning random', random_value)\n",
    "    return random_value\n",
    "\n",
    "def sample_z(mu, log_sigma):\n",
    "    z =  mu + (np.exp(log_sigma)) * np.random.randn(*log_sigma.shape) \n",
    "    return z\n",
    "\n",
    "\n",
    "def get_z_from_rnn_output(y_pred):\n",
    "    HIDDEN_UNITS = 256\n",
    "    GAUSSIAN_MIXTURES = 5\n",
    "    Z_DIM = 32\n",
    "    d = GAUSSIAN_MIXTURES * Z_DIM\n",
    "\n",
    "    z_pred = y_pred[:(3*d)]\n",
    "    rew_pred = y_pred[-1]\n",
    "\n",
    "    z_pred = np.reshape(z_pred, [-1, GAUSSIAN_MIXTURES * 3])\n",
    "\n",
    "    log_pi, mu, log_sigma = get_mixture_coef(z_pred)\n",
    "\n",
    "    chosen_log_pi = np.zeros(Z_DIM)\n",
    "    chosen_mu = np.zeros(Z_DIM)\n",
    "    chosen_log_sigma = np.zeros(Z_DIM)\n",
    "\n",
    "    # adjust temperatures\n",
    "    logmix2 = np.copy(log_pi)\n",
    "    logmix2 -= logmix2.max()\n",
    "    logmix2 = np.exp(logmix2)\n",
    "    logmix2 /= logmix2.sum(axis=1).reshape(Z_DIM, 1)\n",
    "\n",
    "\n",
    "    for j in range(Z_DIM):\n",
    "        idx = get_pi_idx(np.random.rand(), logmix2[j])\n",
    "        chosen_log_pi[j] = idx\n",
    "        chosen_mu[j] = mu[j, idx]\n",
    "        chosen_log_sigma[j] = log_sigma[j,idx]\n",
    "\n",
    "    next_z = sample_z(chosen_mu, chosen_log_sigma)\n",
    "\n",
    "    # print(next_z)\n",
    "    # print(rew_pred)\n",
    "    if rew_pred > 0:\n",
    "        next_reward = 1\n",
    "    else:\n",
    "        next_reward = 0\n",
    "        \n",
    "    return next_z, next_reward, chosen_mu"
   ]
  },
  {
   "cell_type": "code",
   "execution_count": 40,
   "metadata": {},
   "outputs": [],
   "source": [
    "model = make_model()\n",
    "model.make_env('car_racing')"
   ]
  },
  {
   "cell_type": "code",
   "execution_count": 41,
   "metadata": {},
   "outputs": [
    {
     "output_type": "stream",
     "name": "stdout",
     "text": [
      "loading file ./controller/GAN/car_racing.cma.2.8.best.json\n"
     ]
    }
   ],
   "source": [
    "model.load_model('./controller/GAN/car_racing.cma.2.8.best.json')"
   ]
  },
  {
   "cell_type": "code",
   "execution_count": 42,
   "metadata": {},
   "outputs": [],
   "source": [
    "z_weight = model.weight[0][:32,2]\n",
    "h_weight = model.weight[0][32:,2]"
   ]
  },
  {
   "cell_type": "code",
   "execution_count": 43,
   "metadata": {},
   "outputs": [
    {
     "output_type": "execute_result",
     "data": {
      "text/plain": [
       "array([-0.1705,  0.3106, -0.5865,  0.1104, -0.034 , -0.3701, -0.1313,\n",
       "       -0.7858,  0.5165, -0.2566,  0.1403, -0.1527, -0.0596,  0.1559,\n",
       "        0.1373, -0.6218, -0.3536, -0.6088,  0.2716,  0.0185,  0.0391,\n",
       "       -0.0189, -0.076 ,  0.3591, -0.3763, -0.0629,  0.1908, -0.247 ,\n",
       "        0.0728,  0.3435,  0.3242,  0.3888])"
      ]
     },
     "metadata": {},
     "execution_count": 43
    }
   ],
   "source": [
    "z_weight"
   ]
  },
  {
   "cell_type": "code",
   "execution_count": 44,
   "metadata": {},
   "outputs": [
    {
     "output_type": "execute_result",
     "data": {
      "text/plain": [
       "array([-0.0118,  0.4593,  0.2376,  0.3925, -0.0081, -0.3423,  0.3404,\n",
       "       -0.0683, -0.1599, -0.0965,  0.4089,  0.3891, -0.1644, -0.168 ,\n",
       "       -0.2493,  0.3307,  0.3353, -0.0201,  0.1125,  0.4033,  0.1835,\n",
       "        0.3492,  0.0353, -0.4045, -0.4378, -0.7443,  0.3513, -0.2168,\n",
       "       -0.0169,  0.0197, -0.0783, -0.4732,  0.1419,  0.9266,  0.2158,\n",
       "        0.0784, -0.4342,  0.3828, -0.5322, -0.0415,  0.6467, -0.0544,\n",
       "        0.3392,  0.3225, -0.6718, -0.049 , -0.4358, -0.1438, -0.4347,\n",
       "        0.8427, -0.3223, -0.4079,  0.4364, -0.1139, -0.3047, -0.2678,\n",
       "       -0.2943,  0.2397,  0.0614,  0.1556, -0.4489, -0.3647,  1.0279,\n",
       "       -0.0304,  0.6686, -0.0442,  0.0029, -0.0616,  0.1423, -1.0101,\n",
       "       -1.0414,  0.1473,  0.1171, -0.1333, -0.7359, -0.2138, -0.0166,\n",
       "        0.3792, -0.0333, -0.3408, -0.2543,  0.1872, -0.3818, -0.0753,\n",
       "        0.4761,  0.1357, -0.1883,  0.5873,  0.4334, -0.3932,  0.071 ,\n",
       "        0.0557, -0.1147, -0.0686,  0.0299,  0.4632, -0.5755,  0.4023,\n",
       "       -0.2159,  0.2131, -0.0793, -0.081 , -0.2778,  0.1613,  0.1394,\n",
       "       -0.3593,  0.5306,  0.7679, -0.4014, -0.3381, -0.0687, -0.0282,\n",
       "       -0.5551, -0.3837,  0.5225,  0.1347, -0.553 , -0.0063, -0.1409,\n",
       "       -0.3777,  0.6299,  0.1799,  0.0952,  0.2066, -0.1141,  0.0001,\n",
       "       -0.3116, -0.4508, -0.6   , -0.3242, -0.1874, -0.2543,  0.0959,\n",
       "       -0.1313,  0.1187,  0.0468,  0.0861, -0.2507,  0.325 ,  0.2863,\n",
       "       -0.4014, -0.3635, -0.2897,  0.1694, -0.4253,  0.0337,  0.08  ,\n",
       "        0.3198, -0.4873,  0.0706,  0.0549, -0.6346,  0.0191,  0.4195,\n",
       "        0.2943, -0.3158, -0.281 ,  0.006 ,  0.3752,  0.6583, -0.1989,\n",
       "        0.1223,  0.546 ,  0.1913,  0.0916, -0.5089,  0.7006,  0.9834,\n",
       "        0.2107, -0.0693, -0.161 , -0.5148, -0.3019,  0.0491,  0.123 ,\n",
       "       -0.1212, -0.5882,  0.3393, -0.2111, -0.0401,  0.8311, -0.3513,\n",
       "        0.3003, -0.1183,  0.7031,  0.5005,  0.5763,  0.6626, -0.4069,\n",
       "        0.379 ,  0.2067,  0.1066,  0.4252,  0.5   , -0.1234,  0.0674,\n",
       "        0.5342, -0.2867,  0.1924, -0.8546,  0.0738, -0.0495, -0.4401,\n",
       "        0.6674, -0.5255,  0.749 ,  0.1362, -0.0096, -0.5445, -0.1799,\n",
       "        0.1286,  0.3447, -0.7245,  0.3849,  0.9756, -0.0698, -0.1057,\n",
       "        0.4244, -1.2849, -0.2971,  0.4091,  0.2553,  0.0729, -0.6838,\n",
       "       -0.0172,  0.0368, -0.1789,  0.62  ,  0.2612, -0.3171,  0.2764,\n",
       "       -0.8845, -0.1929, -0.4308,  0.0139,  0.3028,  0.0661,  0.0508,\n",
       "       -0.4943,  0.1431,  0.0198, -0.1553, -0.2237, -1.0761,  0.0392,\n",
       "        0.0212,  0.4801,  0.3915, -0.4657,  0.1612,  0.0613,  0.2018,\n",
       "       -0.2852,  0.2599,  0.0631, -0.1094])"
      ]
     },
     "metadata": {},
     "execution_count": 44
    }
   ],
   "source": [
    "h_weight"
   ]
  },
  {
   "cell_type": "code",
   "execution_count": 45,
   "metadata": {},
   "outputs": [],
   "source": [
    "rollout_files = np.load('./data/rollout/1040613.npz') \n",
    "obs_file = rollout_files['obs']\n",
    "action_file = rollout_files['action']\n",
    "reward_file = rollout_files['reward']\n",
    "done_file = rollout_files['done']\n",
    "\n",
    "series_files = np.load('./data/GAN_series/1040613.npz') \n",
    "mu_file = series_files['mu']\n",
    "log_var_file = series_files['log_var']\n",
    "action_2_file = series_files['action']\n",
    "reward_2_file = series_files['reward']\n",
    "done_2_file = series_files['done']\n"
   ]
  },
  {
   "cell_type": "code",
   "execution_count": 46,
   "metadata": {},
   "outputs": [],
   "source": [
    "obs = obs_file[4]\n",
    "action = [0,0,0]\n",
    "reward = 0\n",
    "model.reset()"
   ]
  },
  {
   "cell_type": "code",
   "execution_count": 47,
   "metadata": {},
   "outputs": [
    {
     "output_type": "execute_result",
     "data": {
      "text/plain": [
       "<matplotlib.image.AxesImage at 0x7f423f705940>"
      ]
     },
     "metadata": {},
     "execution_count": 47
    },
    {
     "output_type": "display_data",
     "data": {
      "text/plain": "<Figure size 432x288 with 1 Axes>",
      "image/svg+xml": "<?xml version=\"1.0\" encoding=\"utf-8\" standalone=\"no\"?>\n<!DOCTYPE svg PUBLIC \"-//W3C//DTD SVG 1.1//EN\"\n  \"http://www.w3.org/Graphics/SVG/1.1/DTD/svg11.dtd\">\n<!-- Created with matplotlib (https://matplotlib.org/) -->\n<svg height=\"250.618594pt\" version=\"1.1\" viewBox=\"0 0 251.565 250.618594\" width=\"251.565pt\" xmlns=\"http://www.w3.org/2000/svg\" xmlns:xlink=\"http://www.w3.org/1999/xlink\">\n <defs>\n  <style type=\"text/css\">\n*{stroke-linecap:butt;stroke-linejoin:round;}\n  </style>\n </defs>\n <g id=\"figure_1\">\n  <g id=\"patch_1\">\n   <path d=\"M 0 250.618594 \nL 251.565 250.618594 \nL 251.565 0 \nL 0 0 \nz\n\" style=\"fill:none;\"/>\n  </g>\n  <g id=\"axes_1\">\n   <g id=\"patch_2\">\n    <path d=\"M 26.925 226.740469 \nL 244.365 226.740469 \nL 244.365 9.300469 \nL 26.925 9.300469 \nz\n\" style=\"fill:#ffffff;\"/>\n   </g>\n   <g clip-path=\"url(#pc79d475add)\">\n    <image height=\"218\" id=\"imagefc872e9d46\" transform=\"scale(1 -1)translate(0 -218)\" width=\"218\" x=\"26.925\" xlink:href=\"data:image/png;base64,\niVBORw0KGgoAAAANSUhEUgAAANoAAADaCAYAAADAHVzbAAAABHNCSVQICAgIfAhkiAAABA5JREFUeJzt3b1RG1sYgGGxoCZcAb1QAQ2QuIQbELkJkhuRkDG0cetwExoPN8PgsWVZ1r7an+eJxACanYFX39nloL3YbDavG2BUw7kPANZAaBAQGgSEBgGhQUBoEBAaBIQGAaFB4Or9B/f39x8+eX19/fb49vb2oCd8fHz88PHz8/Pb46enpz8+wNXat1/nIjsKTsREg4DQICA0CFxs3p0NvL5+PDEYhu8d/vi5915eXt4e39zc/PI5+APO0RZFBRAQGgQ+LB2ZEEvHRTHRICA0CFg6QsBEg4DQICA0CAgNAkKDgNAgcHX33925j2H5Hs59AL/hV2B0JhoEhAYBoUFAaBAQGgSEBgGhQUBoEBAaBIQGAaFBQGgQEBoEhAYBoUFAaBAQGgSEBgGhQUBoELg69wFwmLuHn7/Dz8Odd9aZAxMNAkKDgNAgIDQICA0CQoOAy/sz4TL+vJloEBAaBIQGAaFBQGgQWNZVx08Hft3XUY9iFDYVz5uJBgGhQUBoEFjWOdqhDj2XO5HtdvvXz/Hv588/f+6/fubNZrfZneBZ2MdEg4DQICA0CAgNAkKDgNAgIDQICA0CQoOA0CAgNAgIDQLr3FQc2+1s2p2dYzae7/mHYhMNAkKDgNAg4BwNTmXPeZ2JBgGhQUBoEBAaBIQGAaFBwOX9Bbu8vDzo675tvo18JJhoEBAaBCwdA4cu4VguEw0CQoOA0CAgNAgIDQJCg8D8L+/Hd++EY5hoEBAaBOa/dJyBYZj265lNxeOb9m8ALITQICA0CAgNAkKDgNAgIDQICA0CQoOAnSGB3T/f7/i5/bI945FwLiYaBIQGAaFBwDlabLfb/f6L6I38D8QmGgSEBgGhQUBoEBAaBIQGAaFBQGgQEBoE7AyZqPIuod7XcXwmGgSEBgFLx5gbx6+TiQYBoUFAaBAQGgSEBgGhQUBoEBAaBIQGAaFBwBas2DBM77XN7v3xTe+nDgskNAjMb+k48ls3wxhMNAgIDQJCg4DQICA0CAgNAvO7vP/1yO/zZwHOyESDgNAgML+l47GOXXKewrtlq5vFr5OJBgGhQUBoEFjPOdo5nfP8kEkw0SAgNAhYOrJe4W4hEw0CQoOA0CDgHC02xVvrel/H8ZloEBAaBCwdWa9T79jZ8+cCEw0CQoOApSOcyp6lqIkGAaFBQGgQEBoEhAYBoUHA5f2Ym8Wv0/R+6rBAQoOA0CAgNAgIDQJCg4DQICA0CAgNAnaGrJQ7j7ZMNAgIDQJCg4BztJhzo3Uy0SAgNAgIDQJCg4DQICA0CAgNAkKDgNAgYGdIzM3i18lEg4DQICA0CAgNAkKDgNAgIDQICA0CQoOA0CAgNAgIDQJCg4Dd+7FhmN5rm93745veTx0WSGgQ+B95TFGh0+1lsAAAAABJRU5ErkJggg==\" y=\"-8.740469\"/>\n   </g>\n   <g id=\"matplotlib.axis_1\">\n    <g id=\"xtick_1\">\n     <g id=\"line2d_1\">\n      <defs>\n       <path d=\"M 0 0 \nL 0 3.5 \n\" id=\"m6725870b94\" style=\"stroke:#000000;stroke-width:0.8;\"/>\n      </defs>\n      <g>\n       <use style=\"stroke:#000000;stroke-width:0.8;\" x=\"28.62375\" xlink:href=\"#m6725870b94\" y=\"226.740469\"/>\n      </g>\n     </g>\n     <g id=\"text_1\">\n      <!-- 0 -->\n      <defs>\n       <path d=\"M 31.78125 66.40625 \nQ 24.171875 66.40625 20.328125 58.90625 \nQ 16.5 51.421875 16.5 36.375 \nQ 16.5 21.390625 20.328125 13.890625 \nQ 24.171875 6.390625 31.78125 6.390625 \nQ 39.453125 6.390625 43.28125 13.890625 \nQ 47.125 21.390625 47.125 36.375 \nQ 47.125 51.421875 43.28125 58.90625 \nQ 39.453125 66.40625 31.78125 66.40625 \nz\nM 31.78125 74.21875 \nQ 44.046875 74.21875 50.515625 64.515625 \nQ 56.984375 54.828125 56.984375 36.375 \nQ 56.984375 17.96875 50.515625 8.265625 \nQ 44.046875 -1.421875 31.78125 -1.421875 \nQ 19.53125 -1.421875 13.0625 8.265625 \nQ 6.59375 17.96875 6.59375 36.375 \nQ 6.59375 54.828125 13.0625 64.515625 \nQ 19.53125 74.21875 31.78125 74.21875 \nz\n\" id=\"DejaVuSans-48\"/>\n      </defs>\n      <g transform=\"translate(25.4425 241.338906)scale(0.1 -0.1)\">\n       <use xlink:href=\"#DejaVuSans-48\"/>\n      </g>\n     </g>\n    </g>\n    <g id=\"xtick_2\">\n     <g id=\"line2d_2\">\n      <g>\n       <use style=\"stroke:#000000;stroke-width:0.8;\" x=\"62.59875\" xlink:href=\"#m6725870b94\" y=\"226.740469\"/>\n      </g>\n     </g>\n     <g id=\"text_2\">\n      <!-- 10 -->\n      <defs>\n       <path d=\"M 12.40625 8.296875 \nL 28.515625 8.296875 \nL 28.515625 63.921875 \nL 10.984375 60.40625 \nL 10.984375 69.390625 \nL 28.421875 72.90625 \nL 38.28125 72.90625 \nL 38.28125 8.296875 \nL 54.390625 8.296875 \nL 54.390625 0 \nL 12.40625 0 \nz\n\" id=\"DejaVuSans-49\"/>\n      </defs>\n      <g transform=\"translate(56.23625 241.338906)scale(0.1 -0.1)\">\n       <use xlink:href=\"#DejaVuSans-49\"/>\n       <use x=\"63.623047\" xlink:href=\"#DejaVuSans-48\"/>\n      </g>\n     </g>\n    </g>\n    <g id=\"xtick_3\">\n     <g id=\"line2d_3\">\n      <g>\n       <use style=\"stroke:#000000;stroke-width:0.8;\" x=\"96.57375\" xlink:href=\"#m6725870b94\" y=\"226.740469\"/>\n      </g>\n     </g>\n     <g id=\"text_3\">\n      <!-- 20 -->\n      <defs>\n       <path d=\"M 19.1875 8.296875 \nL 53.609375 8.296875 \nL 53.609375 0 \nL 7.328125 0 \nL 7.328125 8.296875 \nQ 12.9375 14.109375 22.625 23.890625 \nQ 32.328125 33.6875 34.8125 36.53125 \nQ 39.546875 41.84375 41.421875 45.53125 \nQ 43.3125 49.21875 43.3125 52.78125 \nQ 43.3125 58.59375 39.234375 62.25 \nQ 35.15625 65.921875 28.609375 65.921875 \nQ 23.96875 65.921875 18.8125 64.3125 \nQ 13.671875 62.703125 7.8125 59.421875 \nL 7.8125 69.390625 \nQ 13.765625 71.78125 18.9375 73 \nQ 24.125 74.21875 28.421875 74.21875 \nQ 39.75 74.21875 46.484375 68.546875 \nQ 53.21875 62.890625 53.21875 53.421875 \nQ 53.21875 48.921875 51.53125 44.890625 \nQ 49.859375 40.875 45.40625 35.40625 \nQ 44.1875 33.984375 37.640625 27.21875 \nQ 31.109375 20.453125 19.1875 8.296875 \nz\n\" id=\"DejaVuSans-50\"/>\n      </defs>\n      <g transform=\"translate(90.21125 241.338906)scale(0.1 -0.1)\">\n       <use xlink:href=\"#DejaVuSans-50\"/>\n       <use x=\"63.623047\" xlink:href=\"#DejaVuSans-48\"/>\n      </g>\n     </g>\n    </g>\n    <g id=\"xtick_4\">\n     <g id=\"line2d_4\">\n      <g>\n       <use style=\"stroke:#000000;stroke-width:0.8;\" x=\"130.54875\" xlink:href=\"#m6725870b94\" y=\"226.740469\"/>\n      </g>\n     </g>\n     <g id=\"text_4\">\n      <!-- 30 -->\n      <defs>\n       <path d=\"M 40.578125 39.3125 \nQ 47.65625 37.796875 51.625 33 \nQ 55.609375 28.21875 55.609375 21.1875 \nQ 55.609375 10.40625 48.1875 4.484375 \nQ 40.765625 -1.421875 27.09375 -1.421875 \nQ 22.515625 -1.421875 17.65625 -0.515625 \nQ 12.796875 0.390625 7.625 2.203125 \nL 7.625 11.71875 \nQ 11.71875 9.328125 16.59375 8.109375 \nQ 21.484375 6.890625 26.8125 6.890625 \nQ 36.078125 6.890625 40.9375 10.546875 \nQ 45.796875 14.203125 45.796875 21.1875 \nQ 45.796875 27.640625 41.28125 31.265625 \nQ 36.765625 34.90625 28.71875 34.90625 \nL 20.21875 34.90625 \nL 20.21875 43.015625 \nL 29.109375 43.015625 \nQ 36.375 43.015625 40.234375 45.921875 \nQ 44.09375 48.828125 44.09375 54.296875 \nQ 44.09375 59.90625 40.109375 62.90625 \nQ 36.140625 65.921875 28.71875 65.921875 \nQ 24.65625 65.921875 20.015625 65.03125 \nQ 15.375 64.15625 9.8125 62.3125 \nL 9.8125 71.09375 \nQ 15.4375 72.65625 20.34375 73.4375 \nQ 25.25 74.21875 29.59375 74.21875 \nQ 40.828125 74.21875 47.359375 69.109375 \nQ 53.90625 64.015625 53.90625 55.328125 \nQ 53.90625 49.265625 50.4375 45.09375 \nQ 46.96875 40.921875 40.578125 39.3125 \nz\n\" id=\"DejaVuSans-51\"/>\n      </defs>\n      <g transform=\"translate(124.18625 241.338906)scale(0.1 -0.1)\">\n       <use xlink:href=\"#DejaVuSans-51\"/>\n       <use x=\"63.623047\" xlink:href=\"#DejaVuSans-48\"/>\n      </g>\n     </g>\n    </g>\n    <g id=\"xtick_5\">\n     <g id=\"line2d_5\">\n      <g>\n       <use style=\"stroke:#000000;stroke-width:0.8;\" x=\"164.52375\" xlink:href=\"#m6725870b94\" y=\"226.740469\"/>\n      </g>\n     </g>\n     <g id=\"text_5\">\n      <!-- 40 -->\n      <defs>\n       <path d=\"M 37.796875 64.3125 \nL 12.890625 25.390625 \nL 37.796875 25.390625 \nz\nM 35.203125 72.90625 \nL 47.609375 72.90625 \nL 47.609375 25.390625 \nL 58.015625 25.390625 \nL 58.015625 17.1875 \nL 47.609375 17.1875 \nL 47.609375 0 \nL 37.796875 0 \nL 37.796875 17.1875 \nL 4.890625 17.1875 \nL 4.890625 26.703125 \nz\n\" id=\"DejaVuSans-52\"/>\n      </defs>\n      <g transform=\"translate(158.16125 241.338906)scale(0.1 -0.1)\">\n       <use xlink:href=\"#DejaVuSans-52\"/>\n       <use x=\"63.623047\" xlink:href=\"#DejaVuSans-48\"/>\n      </g>\n     </g>\n    </g>\n    <g id=\"xtick_6\">\n     <g id=\"line2d_6\">\n      <g>\n       <use style=\"stroke:#000000;stroke-width:0.8;\" x=\"198.49875\" xlink:href=\"#m6725870b94\" y=\"226.740469\"/>\n      </g>\n     </g>\n     <g id=\"text_6\">\n      <!-- 50 -->\n      <defs>\n       <path d=\"M 10.796875 72.90625 \nL 49.515625 72.90625 \nL 49.515625 64.59375 \nL 19.828125 64.59375 \nL 19.828125 46.734375 \nQ 21.96875 47.46875 24.109375 47.828125 \nQ 26.265625 48.1875 28.421875 48.1875 \nQ 40.625 48.1875 47.75 41.5 \nQ 54.890625 34.8125 54.890625 23.390625 \nQ 54.890625 11.625 47.5625 5.09375 \nQ 40.234375 -1.421875 26.90625 -1.421875 \nQ 22.3125 -1.421875 17.546875 -0.640625 \nQ 12.796875 0.140625 7.71875 1.703125 \nL 7.71875 11.625 \nQ 12.109375 9.234375 16.796875 8.0625 \nQ 21.484375 6.890625 26.703125 6.890625 \nQ 35.15625 6.890625 40.078125 11.328125 \nQ 45.015625 15.765625 45.015625 23.390625 \nQ 45.015625 31 40.078125 35.4375 \nQ 35.15625 39.890625 26.703125 39.890625 \nQ 22.75 39.890625 18.8125 39.015625 \nQ 14.890625 38.140625 10.796875 36.28125 \nz\n\" id=\"DejaVuSans-53\"/>\n      </defs>\n      <g transform=\"translate(192.13625 241.338906)scale(0.1 -0.1)\">\n       <use xlink:href=\"#DejaVuSans-53\"/>\n       <use x=\"63.623047\" xlink:href=\"#DejaVuSans-48\"/>\n      </g>\n     </g>\n    </g>\n    <g id=\"xtick_7\">\n     <g id=\"line2d_7\">\n      <g>\n       <use style=\"stroke:#000000;stroke-width:0.8;\" x=\"232.47375\" xlink:href=\"#m6725870b94\" y=\"226.740469\"/>\n      </g>\n     </g>\n     <g id=\"text_7\">\n      <!-- 60 -->\n      <defs>\n       <path d=\"M 33.015625 40.375 \nQ 26.375 40.375 22.484375 35.828125 \nQ 18.609375 31.296875 18.609375 23.390625 \nQ 18.609375 15.53125 22.484375 10.953125 \nQ 26.375 6.390625 33.015625 6.390625 \nQ 39.65625 6.390625 43.53125 10.953125 \nQ 47.40625 15.53125 47.40625 23.390625 \nQ 47.40625 31.296875 43.53125 35.828125 \nQ 39.65625 40.375 33.015625 40.375 \nz\nM 52.59375 71.296875 \nL 52.59375 62.3125 \nQ 48.875 64.0625 45.09375 64.984375 \nQ 41.3125 65.921875 37.59375 65.921875 \nQ 27.828125 65.921875 22.671875 59.328125 \nQ 17.53125 52.734375 16.796875 39.40625 \nQ 19.671875 43.65625 24.015625 45.921875 \nQ 28.375 48.1875 33.59375 48.1875 \nQ 44.578125 48.1875 50.953125 41.515625 \nQ 57.328125 34.859375 57.328125 23.390625 \nQ 57.328125 12.15625 50.6875 5.359375 \nQ 44.046875 -1.421875 33.015625 -1.421875 \nQ 20.359375 -1.421875 13.671875 8.265625 \nQ 6.984375 17.96875 6.984375 36.375 \nQ 6.984375 53.65625 15.1875 63.9375 \nQ 23.390625 74.21875 37.203125 74.21875 \nQ 40.921875 74.21875 44.703125 73.484375 \nQ 48.484375 72.75 52.59375 71.296875 \nz\n\" id=\"DejaVuSans-54\"/>\n      </defs>\n      <g transform=\"translate(226.11125 241.338906)scale(0.1 -0.1)\">\n       <use xlink:href=\"#DejaVuSans-54\"/>\n       <use x=\"63.623047\" xlink:href=\"#DejaVuSans-48\"/>\n      </g>\n     </g>\n    </g>\n   </g>\n   <g id=\"matplotlib.axis_2\">\n    <g id=\"ytick_1\">\n     <g id=\"line2d_8\">\n      <defs>\n       <path d=\"M 0 0 \nL -3.5 0 \n\" id=\"m4e7ef17826\" style=\"stroke:#000000;stroke-width:0.8;\"/>\n      </defs>\n      <g>\n       <use style=\"stroke:#000000;stroke-width:0.8;\" x=\"26.925\" xlink:href=\"#m4e7ef17826\" y=\"10.999219\"/>\n      </g>\n     </g>\n     <g id=\"text_8\">\n      <!-- 0 -->\n      <g transform=\"translate(13.5625 14.798437)scale(0.1 -0.1)\">\n       <use xlink:href=\"#DejaVuSans-48\"/>\n      </g>\n     </g>\n    </g>\n    <g id=\"ytick_2\">\n     <g id=\"line2d_9\">\n      <g>\n       <use style=\"stroke:#000000;stroke-width:0.8;\" x=\"26.925\" xlink:href=\"#m4e7ef17826\" y=\"44.974219\"/>\n      </g>\n     </g>\n     <g id=\"text_9\">\n      <!-- 10 -->\n      <g transform=\"translate(7.2 48.773437)scale(0.1 -0.1)\">\n       <use xlink:href=\"#DejaVuSans-49\"/>\n       <use x=\"63.623047\" xlink:href=\"#DejaVuSans-48\"/>\n      </g>\n     </g>\n    </g>\n    <g id=\"ytick_3\">\n     <g id=\"line2d_10\">\n      <g>\n       <use style=\"stroke:#000000;stroke-width:0.8;\" x=\"26.925\" xlink:href=\"#m4e7ef17826\" y=\"78.949219\"/>\n      </g>\n     </g>\n     <g id=\"text_10\">\n      <!-- 20 -->\n      <g transform=\"translate(7.2 82.748437)scale(0.1 -0.1)\">\n       <use xlink:href=\"#DejaVuSans-50\"/>\n       <use x=\"63.623047\" xlink:href=\"#DejaVuSans-48\"/>\n      </g>\n     </g>\n    </g>\n    <g id=\"ytick_4\">\n     <g id=\"line2d_11\">\n      <g>\n       <use style=\"stroke:#000000;stroke-width:0.8;\" x=\"26.925\" xlink:href=\"#m4e7ef17826\" y=\"112.924219\"/>\n      </g>\n     </g>\n     <g id=\"text_11\">\n      <!-- 30 -->\n      <g transform=\"translate(7.2 116.723437)scale(0.1 -0.1)\">\n       <use xlink:href=\"#DejaVuSans-51\"/>\n       <use x=\"63.623047\" xlink:href=\"#DejaVuSans-48\"/>\n      </g>\n     </g>\n    </g>\n    <g id=\"ytick_5\">\n     <g id=\"line2d_12\">\n      <g>\n       <use style=\"stroke:#000000;stroke-width:0.8;\" x=\"26.925\" xlink:href=\"#m4e7ef17826\" y=\"146.899219\"/>\n      </g>\n     </g>\n     <g id=\"text_12\">\n      <!-- 40 -->\n      <g transform=\"translate(7.2 150.698437)scale(0.1 -0.1)\">\n       <use xlink:href=\"#DejaVuSans-52\"/>\n       <use x=\"63.623047\" xlink:href=\"#DejaVuSans-48\"/>\n      </g>\n     </g>\n    </g>\n    <g id=\"ytick_6\">\n     <g id=\"line2d_13\">\n      <g>\n       <use style=\"stroke:#000000;stroke-width:0.8;\" x=\"26.925\" xlink:href=\"#m4e7ef17826\" y=\"180.874219\"/>\n      </g>\n     </g>\n     <g id=\"text_13\">\n      <!-- 50 -->\n      <g transform=\"translate(7.2 184.673437)scale(0.1 -0.1)\">\n       <use xlink:href=\"#DejaVuSans-53\"/>\n       <use x=\"63.623047\" xlink:href=\"#DejaVuSans-48\"/>\n      </g>\n     </g>\n    </g>\n    <g id=\"ytick_7\">\n     <g id=\"line2d_14\">\n      <g>\n       <use style=\"stroke:#000000;stroke-width:0.8;\" x=\"26.925\" xlink:href=\"#m4e7ef17826\" y=\"214.849219\"/>\n      </g>\n     </g>\n     <g id=\"text_14\">\n      <!-- 60 -->\n      <g transform=\"translate(7.2 218.648437)scale(0.1 -0.1)\">\n       <use xlink:href=\"#DejaVuSans-54\"/>\n       <use x=\"63.623047\" xlink:href=\"#DejaVuSans-48\"/>\n      </g>\n     </g>\n    </g>\n   </g>\n   <g id=\"patch_3\">\n    <path d=\"M 26.925 226.740469 \nL 26.925 9.300469 \n\" style=\"fill:none;stroke:#000000;stroke-linecap:square;stroke-linejoin:miter;stroke-width:0.8;\"/>\n   </g>\n   <g id=\"patch_4\">\n    <path d=\"M 244.365 226.740469 \nL 244.365 9.300469 \n\" style=\"fill:none;stroke:#000000;stroke-linecap:square;stroke-linejoin:miter;stroke-width:0.8;\"/>\n   </g>\n   <g id=\"patch_5\">\n    <path d=\"M 26.925 226.740469 \nL 244.365 226.740469 \n\" style=\"fill:none;stroke:#000000;stroke-linecap:square;stroke-linejoin:miter;stroke-width:0.8;\"/>\n   </g>\n   <g id=\"patch_6\">\n    <path d=\"M 26.925 9.300469 \nL 244.365 9.300469 \n\" style=\"fill:none;stroke:#000000;stroke-linecap:square;stroke-linejoin:miter;stroke-width:0.8;\"/>\n   </g>\n  </g>\n </g>\n <defs>\n  <clipPath id=\"pc79d475add\">\n   <rect height=\"217.44\" width=\"217.44\" x=\"26.925\" y=\"9.300469\"/>\n  </clipPath>\n </defs>\n</svg>\n",
      "image/png": "[encoded data removed]"
     },
     "metadata": {
      "needs_background": "light"
     }
    }
   ],
   "source": [
    "plt.imshow(obs)"
   ]
  },
  {
   "cell_type": "code",
   "execution_count": 48,
   "metadata": {},
   "outputs": [],
   "source": [
    "vae_encoded_obs = model.update(obs, 0)"
   ]
  },
  {
   "cell_type": "code",
   "execution_count": 49,
   "metadata": {},
   "outputs": [
    {
     "output_type": "execute_result",
     "data": {
      "text/plain": [
       "array([ 0.0315,  1.8299,  0.5313, -0.102 , -0.6582,  1.4235,  0.57  ,\n",
       "       -0.7741, -0.6186, -0.2607,  0.8481,  1.3961, -0.3316, -0.5468,\n",
       "        0.515 , -0.82  ,  0.6824, -0.3759,  1.9645,  0.6725,  0.3263,\n",
       "       -0.1072, -1.7227, -0.527 ,  2.4948,  1.0245, -0.2635,  1.5472,\n",
       "        1.7665, -0.4924, -0.2426, -0.3907], dtype=float32)"
      ]
     },
     "metadata": {},
     "execution_count": 49
    }
   ],
   "source": [
    "vae_encoded_obs"
   ]
  },
  {
   "cell_type": "code",
   "execution_count": 50,
   "metadata": {},
   "outputs": [],
   "source": [
    "recon = model.vae.decoder.predict(np.array([vae_encoded_obs]))[0]"
   ]
  },
  {
   "cell_type": "code",
   "execution_count": 51,
   "metadata": {},
   "outputs": [
    {
     "output_type": "execute_result",
     "data": {
      "text/plain": [
       "<matplotlib.image.AxesImage at 0x7f423f61b208>"
      ]
     },
     "metadata": {},
     "execution_count": 51
    },
    {
     "output_type": "display_data",
     "data": {
      "text/plain": "<Figure size 432x288 with 1 Axes>",
      "image/svg+xml": "<?xml version=\"1.0\" encoding=\"utf-8\" standalone=\"no\"?>\n<!DOCTYPE svg PUBLIC \"-//W3C//DTD SVG 1.1//EN\"\n  \"http://www.w3.org/Graphics/SVG/1.1/DTD/svg11.dtd\">\n<!-- Created with matplotlib (https://matplotlib.org/) -->\n<svg height=\"250.618594pt\" version=\"1.1\" viewBox=\"0 0 251.565 250.618594\" width=\"251.565pt\" xmlns=\"http://www.w3.org/2000/svg\" xmlns:xlink=\"http://www.w3.org/1999/xlink\">\n <defs>\n  <style type=\"text/css\">\n*{stroke-linecap:butt;stroke-linejoin:round;}\n  </style>\n </defs>\n <g id=\"figure_1\">\n  <g id=\"patch_1\">\n   <path d=\"M 0 250.618594 \nL 251.565 250.618594 \nL 251.565 0 \nL 0 0 \nz\n\" style=\"fill:none;\"/>\n  </g>\n  <g id=\"axes_1\">\n   <g id=\"patch_2\">\n    <path d=\"M 26.925 226.740469 \nL 244.365 226.740469 \nL 244.365 9.300469 \nL 26.925 9.300469 \nz\n\" style=\"fill:#ffffff;\"/>\n   </g>\n   <g clip-path=\"url(#pb9e716de12)\">\n    <image height=\"218\" id=\"imaged814bcffd1\" transform=\"scale(1 -1)translate(0 -218)\" width=\"218\" x=\"26.925\" xlink:href=\"data:image/png;base64,\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\" y=\"-8.740469\"/>\n   </g>\n   <g id=\"matplotlib.axis_1\">\n    <g id=\"xtick_1\">\n     <g id=\"line2d_1\">\n      <defs>\n       <path d=\"M 0 0 \nL 0 3.5 \n\" id=\"m0d09bec856\" style=\"stroke:#000000;stroke-width:0.8;\"/>\n      </defs>\n      <g>\n       <use style=\"stroke:#000000;stroke-width:0.8;\" x=\"28.62375\" xlink:href=\"#m0d09bec856\" y=\"226.740469\"/>\n      </g>\n     </g>\n     <g id=\"text_1\">\n      <!-- 0 -->\n      <defs>\n       <path d=\"M 31.78125 66.40625 \nQ 24.171875 66.40625 20.328125 58.90625 \nQ 16.5 51.421875 16.5 36.375 \nQ 16.5 21.390625 20.328125 13.890625 \nQ 24.171875 6.390625 31.78125 6.390625 \nQ 39.453125 6.390625 43.28125 13.890625 \nQ 47.125 21.390625 47.125 36.375 \nQ 47.125 51.421875 43.28125 58.90625 \nQ 39.453125 66.40625 31.78125 66.40625 \nz\nM 31.78125 74.21875 \nQ 44.046875 74.21875 50.515625 64.515625 \nQ 56.984375 54.828125 56.984375 36.375 \nQ 56.984375 17.96875 50.515625 8.265625 \nQ 44.046875 -1.421875 31.78125 -1.421875 \nQ 19.53125 -1.421875 13.0625 8.265625 \nQ 6.59375 17.96875 6.59375 36.375 \nQ 6.59375 54.828125 13.0625 64.515625 \nQ 19.53125 74.21875 31.78125 74.21875 \nz\n\" id=\"DejaVuSans-48\"/>\n      </defs>\n      <g transform=\"translate(25.4425 241.338906)scale(0.1 -0.1)\">\n       <use xlink:href=\"#DejaVuSans-48\"/>\n      </g>\n     </g>\n    </g>\n    <g id=\"xtick_2\">\n     <g id=\"line2d_2\">\n      <g>\n       <use style=\"stroke:#000000;stroke-width:0.8;\" x=\"62.59875\" xlink:href=\"#m0d09bec856\" y=\"226.740469\"/>\n      </g>\n     </g>\n     <g id=\"text_2\">\n      <!-- 10 -->\n      <defs>\n       <path d=\"M 12.40625 8.296875 \nL 28.515625 8.296875 \nL 28.515625 63.921875 \nL 10.984375 60.40625 \nL 10.984375 69.390625 \nL 28.421875 72.90625 \nL 38.28125 72.90625 \nL 38.28125 8.296875 \nL 54.390625 8.296875 \nL 54.390625 0 \nL 12.40625 0 \nz\n\" id=\"DejaVuSans-49\"/>\n      </defs>\n      <g transform=\"translate(56.23625 241.338906)scale(0.1 -0.1)\">\n       <use xlink:href=\"#DejaVuSans-49\"/>\n       <use x=\"63.623047\" xlink:href=\"#DejaVuSans-48\"/>\n      </g>\n     </g>\n    </g>\n    <g id=\"xtick_3\">\n     <g id=\"line2d_3\">\n      <g>\n       <use style=\"stroke:#000000;stroke-width:0.8;\" x=\"96.57375\" xlink:href=\"#m0d09bec856\" y=\"226.740469\"/>\n      </g>\n     </g>\n     <g id=\"text_3\">\n      <!-- 20 -->\n      <defs>\n       <path d=\"M 19.1875 8.296875 \nL 53.609375 8.296875 \nL 53.609375 0 \nL 7.328125 0 \nL 7.328125 8.296875 \nQ 12.9375 14.109375 22.625 23.890625 \nQ 32.328125 33.6875 34.8125 36.53125 \nQ 39.546875 41.84375 41.421875 45.53125 \nQ 43.3125 49.21875 43.3125 52.78125 \nQ 43.3125 58.59375 39.234375 62.25 \nQ 35.15625 65.921875 28.609375 65.921875 \nQ 23.96875 65.921875 18.8125 64.3125 \nQ 13.671875 62.703125 7.8125 59.421875 \nL 7.8125 69.390625 \nQ 13.765625 71.78125 18.9375 73 \nQ 24.125 74.21875 28.421875 74.21875 \nQ 39.75 74.21875 46.484375 68.546875 \nQ 53.21875 62.890625 53.21875 53.421875 \nQ 53.21875 48.921875 51.53125 44.890625 \nQ 49.859375 40.875 45.40625 35.40625 \nQ 44.1875 33.984375 37.640625 27.21875 \nQ 31.109375 20.453125 19.1875 8.296875 \nz\n\" id=\"DejaVuSans-50\"/>\n      </defs>\n      <g transform=\"translate(90.21125 241.338906)scale(0.1 -0.1)\">\n       <use xlink:href=\"#DejaVuSans-50\"/>\n       <use x=\"63.623047\" xlink:href=\"#DejaVuSans-48\"/>\n      </g>\n     </g>\n    </g>\n    <g id=\"xtick_4\">\n     <g id=\"line2d_4\">\n      <g>\n       <use style=\"stroke:#000000;stroke-width:0.8;\" x=\"130.54875\" xlink:href=\"#m0d09bec856\" y=\"226.740469\"/>\n      </g>\n     </g>\n     <g id=\"text_4\">\n      <!-- 30 -->\n      <defs>\n       <path d=\"M 40.578125 39.3125 \nQ 47.65625 37.796875 51.625 33 \nQ 55.609375 28.21875 55.609375 21.1875 \nQ 55.609375 10.40625 48.1875 4.484375 \nQ 40.765625 -1.421875 27.09375 -1.421875 \nQ 22.515625 -1.421875 17.65625 -0.515625 \nQ 12.796875 0.390625 7.625 2.203125 \nL 7.625 11.71875 \nQ 11.71875 9.328125 16.59375 8.109375 \nQ 21.484375 6.890625 26.8125 6.890625 \nQ 36.078125 6.890625 40.9375 10.546875 \nQ 45.796875 14.203125 45.796875 21.1875 \nQ 45.796875 27.640625 41.28125 31.265625 \nQ 36.765625 34.90625 28.71875 34.90625 \nL 20.21875 34.90625 \nL 20.21875 43.015625 \nL 29.109375 43.015625 \nQ 36.375 43.015625 40.234375 45.921875 \nQ 44.09375 48.828125 44.09375 54.296875 \nQ 44.09375 59.90625 40.109375 62.90625 \nQ 36.140625 65.921875 28.71875 65.921875 \nQ 24.65625 65.921875 20.015625 65.03125 \nQ 15.375 64.15625 9.8125 62.3125 \nL 9.8125 71.09375 \nQ 15.4375 72.65625 20.34375 73.4375 \nQ 25.25 74.21875 29.59375 74.21875 \nQ 40.828125 74.21875 47.359375 69.109375 \nQ 53.90625 64.015625 53.90625 55.328125 \nQ 53.90625 49.265625 50.4375 45.09375 \nQ 46.96875 40.921875 40.578125 39.3125 \nz\n\" id=\"DejaVuSans-51\"/>\n      </defs>\n      <g transform=\"translate(124.18625 241.338906)scale(0.1 -0.1)\">\n       <use xlink:href=\"#DejaVuSans-51\"/>\n       <use x=\"63.623047\" xlink:href=\"#DejaVuSans-48\"/>\n      </g>\n     </g>\n    </g>\n    <g id=\"xtick_5\">\n     <g id=\"line2d_5\">\n      <g>\n       <use style=\"stroke:#000000;stroke-width:0.8;\" x=\"164.52375\" xlink:href=\"#m0d09bec856\" y=\"226.740469\"/>\n      </g>\n     </g>\n     <g id=\"text_5\">\n      <!-- 40 -->\n      <defs>\n       <path d=\"M 37.796875 64.3125 \nL 12.890625 25.390625 \nL 37.796875 25.390625 \nz\nM 35.203125 72.90625 \nL 47.609375 72.90625 \nL 47.609375 25.390625 \nL 58.015625 25.390625 \nL 58.015625 17.1875 \nL 47.609375 17.1875 \nL 47.609375 0 \nL 37.796875 0 \nL 37.796875 17.1875 \nL 4.890625 17.1875 \nL 4.890625 26.703125 \nz\n\" id=\"DejaVuSans-52\"/>\n      </defs>\n      <g transform=\"translate(158.16125 241.338906)scale(0.1 -0.1)\">\n       <use xlink:href=\"#DejaVuSans-52\"/>\n       <use x=\"63.623047\" xlink:href=\"#DejaVuSans-48\"/>\n      </g>\n     </g>\n    </g>\n    <g id=\"xtick_6\">\n     <g id=\"line2d_6\">\n      <g>\n       <use style=\"stroke:#000000;stroke-width:0.8;\" x=\"198.49875\" xlink:href=\"#m0d09bec856\" y=\"226.740469\"/>\n      </g>\n     </g>\n     <g id=\"text_6\">\n      <!-- 50 -->\n      <defs>\n       <path d=\"M 10.796875 72.90625 \nL 49.515625 72.90625 \nL 49.515625 64.59375 \nL 19.828125 64.59375 \nL 19.828125 46.734375 \nQ 21.96875 47.46875 24.109375 47.828125 \nQ 26.265625 48.1875 28.421875 48.1875 \nQ 40.625 48.1875 47.75 41.5 \nQ 54.890625 34.8125 54.890625 23.390625 \nQ 54.890625 11.625 47.5625 5.09375 \nQ 40.234375 -1.421875 26.90625 -1.421875 \nQ 22.3125 -1.421875 17.546875 -0.640625 \nQ 12.796875 0.140625 7.71875 1.703125 \nL 7.71875 11.625 \nQ 12.109375 9.234375 16.796875 8.0625 \nQ 21.484375 6.890625 26.703125 6.890625 \nQ 35.15625 6.890625 40.078125 11.328125 \nQ 45.015625 15.765625 45.015625 23.390625 \nQ 45.015625 31 40.078125 35.4375 \nQ 35.15625 39.890625 26.703125 39.890625 \nQ 22.75 39.890625 18.8125 39.015625 \nQ 14.890625 38.140625 10.796875 36.28125 \nz\n\" id=\"DejaVuSans-53\"/>\n      </defs>\n      <g transform=\"translate(192.13625 241.338906)scale(0.1 -0.1)\">\n       <use xlink:href=\"#DejaVuSans-53\"/>\n       <use x=\"63.623047\" xlink:href=\"#DejaVuSans-48\"/>\n      </g>\n     </g>\n    </g>\n    <g id=\"xtick_7\">\n     <g id=\"line2d_7\">\n      <g>\n       <use style=\"stroke:#000000;stroke-width:0.8;\" x=\"232.47375\" xlink:href=\"#m0d09bec856\" y=\"226.740469\"/>\n      </g>\n     </g>\n     <g id=\"text_7\">\n      <!-- 60 -->\n      <defs>\n       <path d=\"M 33.015625 40.375 \nQ 26.375 40.375 22.484375 35.828125 \nQ 18.609375 31.296875 18.609375 23.390625 \nQ 18.609375 15.53125 22.484375 10.953125 \nQ 26.375 6.390625 33.015625 6.390625 \nQ 39.65625 6.390625 43.53125 10.953125 \nQ 47.40625 15.53125 47.40625 23.390625 \nQ 47.40625 31.296875 43.53125 35.828125 \nQ 39.65625 40.375 33.015625 40.375 \nz\nM 52.59375 71.296875 \nL 52.59375 62.3125 \nQ 48.875 64.0625 45.09375 64.984375 \nQ 41.3125 65.921875 37.59375 65.921875 \nQ 27.828125 65.921875 22.671875 59.328125 \nQ 17.53125 52.734375 16.796875 39.40625 \nQ 19.671875 43.65625 24.015625 45.921875 \nQ 28.375 48.1875 33.59375 48.1875 \nQ 44.578125 48.1875 50.953125 41.515625 \nQ 57.328125 34.859375 57.328125 23.390625 \nQ 57.328125 12.15625 50.6875 5.359375 \nQ 44.046875 -1.421875 33.015625 -1.421875 \nQ 20.359375 -1.421875 13.671875 8.265625 \nQ 6.984375 17.96875 6.984375 36.375 \nQ 6.984375 53.65625 15.1875 63.9375 \nQ 23.390625 74.21875 37.203125 74.21875 \nQ 40.921875 74.21875 44.703125 73.484375 \nQ 48.484375 72.75 52.59375 71.296875 \nz\n\" id=\"DejaVuSans-54\"/>\n      </defs>\n      <g transform=\"translate(226.11125 241.338906)scale(0.1 -0.1)\">\n       <use xlink:href=\"#DejaVuSans-54\"/>\n       <use x=\"63.623047\" xlink:href=\"#DejaVuSans-48\"/>\n      </g>\n     </g>\n    </g>\n   </g>\n   <g id=\"matplotlib.axis_2\">\n    <g id=\"ytick_1\">\n     <g id=\"line2d_8\">\n      <defs>\n       <path d=\"M 0 0 \nL -3.5 0 \n\" id=\"m243df08948\" style=\"stroke:#000000;stroke-width:0.8;\"/>\n      </defs>\n      <g>\n       <use style=\"stroke:#000000;stroke-width:0.8;\" x=\"26.925\" xlink:href=\"#m243df08948\" y=\"10.999219\"/>\n      </g>\n     </g>\n     <g id=\"text_8\">\n      <!-- 0 -->\n      <g transform=\"translate(13.5625 14.798437)scale(0.1 -0.1)\">\n       <use xlink:href=\"#DejaVuSans-48\"/>\n      </g>\n     </g>\n    </g>\n    <g id=\"ytick_2\">\n     <g id=\"line2d_9\">\n      <g>\n       <use style=\"stroke:#000000;stroke-width:0.8;\" x=\"26.925\" xlink:href=\"#m243df08948\" y=\"44.974219\"/>\n      </g>\n     </g>\n     <g id=\"text_9\">\n      <!-- 10 -->\n      <g transform=\"translate(7.2 48.773437)scale(0.1 -0.1)\">\n       <use xlink:href=\"#DejaVuSans-49\"/>\n       <use x=\"63.623047\" xlink:href=\"#DejaVuSans-48\"/>\n      </g>\n     </g>\n    </g>\n    <g id=\"ytick_3\">\n     <g id=\"line2d_10\">\n      <g>\n       <use style=\"stroke:#000000;stroke-width:0.8;\" x=\"26.925\" xlink:href=\"#m243df08948\" y=\"78.949219\"/>\n      </g>\n     </g>\n     <g id=\"text_10\">\n      <!-- 20 -->\n      <g transform=\"translate(7.2 82.748437)scale(0.1 -0.1)\">\n       <use xlink:href=\"#DejaVuSans-50\"/>\n       <use x=\"63.623047\" xlink:href=\"#DejaVuSans-48\"/>\n      </g>\n     </g>\n    </g>\n    <g id=\"ytick_4\">\n     <g id=\"line2d_11\">\n      <g>\n       <use style=\"stroke:#000000;stroke-width:0.8;\" x=\"26.925\" xlink:href=\"#m243df08948\" y=\"112.924219\"/>\n      </g>\n     </g>\n     <g id=\"text_11\">\n      <!-- 30 -->\n      <g transform=\"translate(7.2 116.723437)scale(0.1 -0.1)\">\n       <use xlink:href=\"#DejaVuSans-51\"/>\n       <use x=\"63.623047\" xlink:href=\"#DejaVuSans-48\"/>\n      </g>\n     </g>\n    </g>\n    <g id=\"ytick_5\">\n     <g id=\"line2d_12\">\n      <g>\n       <use style=\"stroke:#000000;stroke-width:0.8;\" x=\"26.925\" xlink:href=\"#m243df08948\" y=\"146.899219\"/>\n      </g>\n     </g>\n     <g id=\"text_12\">\n      <!-- 40 -->\n      <g transform=\"translate(7.2 150.698437)scale(0.1 -0.1)\">\n       <use xlink:href=\"#DejaVuSans-52\"/>\n       <use x=\"63.623047\" xlink:href=\"#DejaVuSans-48\"/>\n      </g>\n     </g>\n    </g>\n    <g id=\"ytick_6\">\n     <g id=\"line2d_13\">\n      <g>\n       <use style=\"stroke:#000000;stroke-width:0.8;\" x=\"26.925\" xlink:href=\"#m243df08948\" y=\"180.874219\"/>\n      </g>\n     </g>\n     <g id=\"text_13\">\n      <!-- 50 -->\n      <g transform=\"translate(7.2 184.673437)scale(0.1 -0.1)\">\n       <use xlink:href=\"#DejaVuSans-53\"/>\n       <use x=\"63.623047\" xlink:href=\"#DejaVuSans-48\"/>\n      </g>\n     </g>\n    </g>\n    <g id=\"ytick_7\">\n     <g id=\"line2d_14\">\n      <g>\n       <use style=\"stroke:#000000;stroke-width:0.8;\" x=\"26.925\" xlink:href=\"#m243df08948\" y=\"214.849219\"/>\n      </g>\n     </g>\n     <g id=\"text_14\">\n      <!-- 60 -->\n      <g transform=\"translate(7.2 218.648437)scale(0.1 -0.1)\">\n       <use xlink:href=\"#DejaVuSans-54\"/>\n       <use x=\"63.623047\" xlink:href=\"#DejaVuSans-48\"/>\n      </g>\n     </g>\n    </g>\n   </g>\n   <g id=\"patch_3\">\n    <path d=\"M 26.925 226.740469 \nL 26.925 9.300469 \n\" style=\"fill:none;stroke:#000000;stroke-linecap:square;stroke-linejoin:miter;stroke-width:0.8;\"/>\n   </g>\n   <g id=\"patch_4\">\n    <path d=\"M 244.365 226.740469 \nL 244.365 9.300469 \n\" style=\"fill:none;stroke:#000000;stroke-linecap:square;stroke-linejoin:miter;stroke-width:0.8;\"/>\n   </g>\n   <g id=\"patch_5\">\n    <path d=\"M 26.925 226.740469 \nL 244.365 226.740469 \n\" style=\"fill:none;stroke:#000000;stroke-linecap:square;stroke-linejoin:miter;stroke-width:0.8;\"/>\n   </g>\n   <g id=\"patch_6\">\n    <path d=\"M 26.925 9.300469 \nL 244.365 9.300469 \n\" style=\"fill:none;stroke:#000000;stroke-linecap:square;stroke-linejoin:miter;stroke-width:0.8;\"/>\n   </g>\n  </g>\n </g>\n <defs>\n  <clipPath id=\"pb9e716de12\">\n   <rect height=\"217.44\" width=\"217.44\" x=\"26.925\" y=\"9.300469\"/>\n  </clipPath>\n </defs>\n</svg>\n",
      "image/png": "[encoded data removed]"
     },
     "metadata": {
      "needs_background": "light"
     }
    }
   ],
   "source": [
    "plt.imshow(recon)"
   ]
  },
  {
   "cell_type": "code",
   "execution_count": 52,
   "metadata": {},
   "outputs": [],
   "source": [
    "# obs = obs_file[0]\n",
    "action = [0,1,0]\n",
    "reward = 0\n",
    "model.reset()\n",
    "total_reward = 0\n",
    "total_pseudo_reward = 0\n",
    "t = 0\n",
    "\n",
    "obs = model.env.reset()\n",
    "\n",
    "model.env.render('rgb_array')\n",
    "\n",
    "actions0 = []\n",
    "actions1 = []\n",
    "actions2 = []"
   ]
  },
  {
   "cell_type": "code",
   "execution_count": 53,
   "metadata": {},
   "outputs": [
    {
     "output_type": "stream",
     "name": "stdout",
     "text": [
      "0\n",
      "50\n",
      "100\n",
      "150\n",
      "200\n",
      "250\n",
      "300\n",
      "350\n"
     ]
    }
   ],
   "source": [
    "# while(1):\n",
    "from PIL import Image, ImageDraw\n",
    "imagelist = []\n",
    "\n",
    "for i in range(400):\n",
    "    ######\n",
    "\n",
    "    obs = config.adjust_obs(obs)\n",
    "    reward = config.adjust_reward(reward)\n",
    "    \n",
    "    total_pseudo_reward+= reward\n",
    "\n",
    "    vae_encoded_obs = model.update(obs, 0)\n",
    "\n",
    "    recon = model.vae.decoder.predict(np.array([vae_encoded_obs]))[0]\n",
    "    \n",
    "#     input_to_rnn = [np.array([[np.concatenate([vae_encoded_obs, action, [reward]])]]),np.zeros(shape=(1,256)),np.zeros(shape=(1,256))]\n",
    "#     input_to_rnn = [np.array([[np.concatenate([np.zeros(32), action, [reward]])]]),np.array([model.hidden]),np.array([model.cell_values])]\n",
    "\n",
    "\n",
    "    input_to_rnn = [np.array([[np.concatenate([vae_encoded_obs, action, [reward]])]]),np.array([model.hidden]),np.array([model.cell_values])]\n",
    "\n",
    "    #     print(np.array([[np.concatenate([vae_encoded_obs, action, [reward]])]]).shape)\n",
    "    #     print(np.array([model.hidden]).shape)\n",
    "    #     print(np.array([model.cell_values]).shape)\n",
    "\n",
    "    out = model.rnn.forward.predict(input_to_rnn)\n",
    "\n",
    "    y_pred = out[0][0][0]\n",
    "    h = out[1][0]\n",
    "    c = out[2][0]\n",
    "\n",
    "    model.hidden = h\n",
    "    model.cell_values = c\n",
    "\n",
    "    next_z, next_reward, chosen_mu = get_z_from_rnn_output(y_pred)\n",
    "\n",
    "    recon_next_z = model.vae.decoder.predict(np.array([next_z]))[0]\n",
    "\n",
    "    controller_obs = np.concatenate([vae_encoded_obs,model.hidden])\n",
    "    action = model.get_action(controller_obs, t=0, add_noise=0)\n",
    "    #     actions0.append(action[0])\n",
    "    #     actions1.append(action[1])\n",
    "    #     actions2.append(action[2])\n",
    "\n",
    "    #     action = model.activations(action)\n",
    "#     action = [1,1,0]\n",
    "    obs, reward, done, _ = model.env.step(action)\n",
    "    \n",
    "    total_reward+= reward\n",
    "    img = Image.fromarray(obs)\n",
    "    imagelist.append(img)\n",
    "\n",
    "#     plt.gca().cla() \n",
    "#     plt.imshow( obs)\n",
    "\n",
    "#     display.clear_output(wait=True)\n",
    "#     display.display(plt.gcf()) \n",
    "    \n",
    "#     print(total_reward)\n",
    "#     print(total_pseudo_reward)\n",
    "#     print(t)\n",
    "#     print(action)\n",
    "    if i % 50 == 0:\n",
    "        print(i)\n",
    "    t += 1\n",
    "imagelist[0].save('GAN_out.gif', save_all=True, append_images=imagelist[1:])\n",
    "\n",
    "    #     print(action)"
   ]
  },
  {
   "cell_type": "code",
   "execution_count": null,
   "metadata": {},
   "outputs": [],
   "source": []
  }
 ],
 "metadata": {
  "kernelspec": {
   "display_name": "Python 3",
   "language": "python",
   "name": "python3"
  }
 },
 "nbformat": 4,
 "nbformat_minor": 2
}